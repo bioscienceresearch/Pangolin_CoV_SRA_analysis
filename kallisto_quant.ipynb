{
 "cells": [
  {
   "cell_type": "code",
   "execution_count": 1,
   "id": "generic-tsunami",
   "metadata": {},
   "outputs": [],
   "source": [
    "import pathlib\n",
    "import subprocess\n",
    "import os"
   ]
  },
  {
   "cell_type": "code",
   "execution_count": 2,
   "id": "casual-spring",
   "metadata": {},
   "outputs": [
    {
     "data": {
      "text/html": [
       "<style>.container { width:95% !important; }</style>"
      ],
      "text/plain": [
       "<IPython.core.display.HTML object>"
      ]
     },
     "metadata": {},
     "output_type": "display_data"
    }
   ],
   "source": [
    "from IPython.core.display import display, HTML\n",
    "display(HTML(\"<style>.container { width:95% !important; }</style>\"))"
   ]
  },
  {
   "cell_type": "markdown",
   "id": "37052967",
   "metadata": {},
   "source": [
    "### Read alignment using Bowtie2"
   ]
  },
  {
   "cell_type": "code",
   "execution_count": 3,
   "id": "internal-relation",
   "metadata": {},
   "outputs": [],
   "source": [
    "def build_index(ref_file, bowtie_ref):\n",
    "    cmd = f\"bowtie2-build {ref_file} {bowtie_ref} --threads {NUM_THREADS}\"\n",
    "    subprocess.check_call(cmd, shell=True)"
   ]
  },
  {
   "cell_type": "code",
   "execution_count": 4,
   "id": "australian-jamaica",
   "metadata": {},
   "outputs": [],
   "source": [
    "def run_kallisto_quant(fastq_1, fastq_2, out_path, sra, kallisto_idx_path, strand, strand_param):\n",
    "    ref_name=kallisto_idx_path.split('/')[-1].split('.idx')[0].strip()\n",
    "    out_file= f\"{out_path}kallisto_{sra}_{ref_name}.{strand}\"\n",
    "    cmd = f\"kallisto quant -i {kallisto_idx_path} {fastq_1} {fastq_2} -o {out_file} {strand_param}\"\n",
    "    try:\n",
    "        subprocess.check_call(cmd, shell=True)\n",
    "    except subprocess.CalledProcessError as e:\n",
    "        raise RuntimeError(\"command '{}' return with error (code {}): {}\".format(e.cmd, e.returncode, e.output))"
   ]
  },
  {
   "cell_type": "code",
   "execution_count": 5,
   "id": "1eaf3940",
   "metadata": {},
   "outputs": [],
   "source": [
    "def run_kallisto_idx(ref_path, kallisto_idx_path):\n",
    "    idx_name=ref_path.split('/')[-1].split('.fa')[0]+'.idx'\n",
    "    kallisto_idx= kallisto_idx_path+idx_name\n",
    "    cmd = f\"kallisto index -i {kallisto_idx} {ref_path}\"\n",
    "    try:\n",
    "        subprocess.check_call(cmd, shell=True)\n",
    "    except subprocess.CalledProcessError as e:\n",
    "        raise RuntimeError(\"command '{}' return with error (code {}): {}\".format(e.cmd, e.returncode, e.output))"
   ]
  },
  {
   "cell_type": "code",
   "execution_count": 6,
   "id": "moral-victor",
   "metadata": {},
   "outputs": [],
   "source": [
    "def workflow_paired(ref_file):\n",
    "    if not os.path.isdir(PRJ_OUT_PATH):\n",
    "        pathlib.Path(PRJ_OUT_PATH).mkdir(exist_ok=True)\n",
    "    f = open(ref_file, \"r\")\n",
    "    references=[line.rstrip() for line in f]\n",
    "    \n",
    "    for ref in references:\n",
    "        print(ref)\n",
    "        idx_name=ref.split('.fa')[0]+'.idx'\n",
    "        kallisto_idx= KALLISTO_IDX_PATH+idx_name\n",
    "        if not os.path.isfile(kallisto_idx):\n",
    "            run_kallisto_idx(REF_PATH+ref, KALLISTO_IDX_PATH)\n",
    "        for idx, sra in enumerate(SRAs):\n",
    "            print(f'{sra}')\n",
    "            fastq1=FASTQ_FILES[2*idx]\n",
    "            fastq2=FASTQ_FILES[(2*idx)+1]\n",
    "\n",
    "            f1path=BASE_PATH+fastq1\n",
    "            f2path=BASE_PATH+fastq2\n",
    "\n",
    "            align_path=PRJ_OUT_PATH+sra\n",
    "            if not os.path.isdir(align_path):\n",
    "                pathlib.Path(align_path).mkdir(exist_ok=True)\n",
    "            kallisto_path=PRJ_OUT_PATH+sra+'/kallisto/'\n",
    "            if not os.path.isdir(kallisto_path):\n",
    "                pathlib.Path(kallisto_path).mkdir(exist_ok=True)\n",
    "            for strand, strand_param in zip(['un','fr','rf'],['','--fr-stranded','--rf-stranded']):\n",
    "                run_kallisto_quant(f1path, f2path, kallisto_path, sra, kallisto_idx, strand, strand_param)"
   ]
  },
  {
   "cell_type": "code",
   "execution_count": 7,
   "id": "5f6aec08",
   "metadata": {},
   "outputs": [],
   "source": [
    "PRJ='PRJNA795267'\n",
    "REF_FILE=f'/mnt/1TB_0/Data/Assembly/{PRJ}/general_plots/kallisto_refs.txt'\n",
    "REF_PATH='/mnt/1TB_0/Data/fasta/complete_nucleotide/'\n",
    "KALLISTO_IDX_PATH=f'{REF_PATH}bwa_indexes/kallisto_index/'\n",
    "PRJ_OUT_PATH=f'/mnt/1TB_0/Data/Assembly/{PRJ}/'\n",
    "BASE_PATH=f'/mnt/8TB_0/Data/genbank/{PRJ}/'"
   ]
  },
  {
   "cell_type": "code",
   "execution_count": 8,
   "id": "ee6258bb",
   "metadata": {},
   "outputs": [
    {
     "name": "stdout",
     "output_type": "stream",
     "text": [
      "MG772933_1_Bat_SARS-like_coronavirus_isolate_bat-SL-CoVZC45_complete_genome.fa\n",
      "SRR17497116\n",
      "SRR17497120\n",
      "SRR17509984\n",
      "gisaid_hcov-19_2021_07_14_12_EPI_ISL_410538.fa\n",
      "SRR17497116\n",
      "SRR17497120\n",
      "SRR17509984\n",
      "NC_001457_1.fa\n",
      "SRR17497116\n",
      "SRR17497120\n",
      "SRR17509984\n",
      "NC_043426_1.fa\n",
      "SRR17497116\n",
      "SRR17497120\n",
      "SRR17509984\n",
      "\n",
      "SRR17497116\n",
      "SRR17497120\n",
      "SRR17509984\n"
     ]
    }
   ],
   "source": [
    "SRAs=['SRR17497116','SRR17497120','SRR17509984']\n",
    "FASTQ_FILES=[]\n",
    "for f in SRAs:\n",
    "    FASTQ_FILES.append(f+'_1_val_1.fq')\n",
    "    FASTQ_FILES.append(f+'_2_val_2.fq')\n",
    "workflow_paired(REF_FILE)"
   ]
  },
  {
   "cell_type": "code",
   "execution_count": 9,
   "id": "mathematical-longer",
   "metadata": {},
   "outputs": [
    {
     "name": "stdout",
     "output_type": "stream",
     "text": [
      "NC_050263_1_Hystrix_brachyura.fa\n",
      "SRR17497116\n",
      "SRR17497120\n",
      "SRR17509984\n",
      "NC_012920_1_Homo_sapiens.fa\n",
      "SRR17497116\n",
      "SRR17497120\n",
      "SRR17509984\n"
     ]
    }
   ],
   "source": [
    "REF_FILE=f'/mnt/1TB_0/Data/Assembly/{PRJ}/general_plots/kallisto_refs_mitochondrion.txt'\n",
    "REF_PATH='/mnt/1TB_0/Data/fasta/mitochondria/'\n",
    "KALLISTO_IDX_PATH=f'{REF_PATH}/kallisto_index/'\n",
    "workflow_paired(REF_FILE)"
   ]
  }
 ],
 "metadata": {
  "kernelspec": {
   "display_name": "Python 3",
   "language": "python",
   "name": "python3"
  },
  "language_info": {
   "codemirror_mode": {
    "name": "ipython",
    "version": 3
   },
   "file_extension": ".py",
   "mimetype": "text/x-python",
   "name": "python",
   "nbconvert_exporter": "python",
   "pygments_lexer": "ipython3",
   "version": "3.6.12"
  }
 },
 "nbformat": 4,
 "nbformat_minor": 5
}
