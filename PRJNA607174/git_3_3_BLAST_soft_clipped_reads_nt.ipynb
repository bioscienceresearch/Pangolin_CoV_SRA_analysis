{
 "cells": [
  {
   "cell_type": "code",
   "execution_count": 1,
   "id": "controversial-conviction",
   "metadata": {},
   "outputs": [],
   "source": [
    "import os\n",
    "import os.path\n",
    "import time\n",
    "import pandas as pd\n",
    "import numpy as np\n",
    "import pathlib\n",
    "from io import StringIO\n",
    "from Bio import SeqIO\n",
    "from Bio.Cluster import distancematrix\n",
    "from Bio.Blast.Applications import NcbiblastnCommandline\n",
    "from Bio.Blast import NCBIWWW\n",
    "from Bio.Blast import NCBIXML\n",
    "import subprocess"
   ]
  },
  {
   "cell_type": "markdown",
   "id": "individual-values",
   "metadata": {},
   "source": [
    "Make sure blast is on path\n",
    "\n",
    "in .bashrc add\n",
    "\n",
    "export PATH=\"$PATH:~/somefolder/ncbi-blast-2.11.0+/bin\"\n",
    "\n",
    "before running this notebook run:\n",
    "\n",
    "export BLASTDB=/somepath/database_directory\n"
   ]
  },
  {
   "cell_type": "code",
   "execution_count": 2,
   "id": "hydraulic-blood",
   "metadata": {},
   "outputs": [],
   "source": [
    "PRJ='PRJNA607174'\n",
    "PRJ_PATH=f'/mnt/6TB_0/Data/genbank/{PRJ}/'\n",
    "DATA_PATH=f'/mnt/1TB_0/Data/Assembly/{PRJ}/'\n",
    "\n",
    "DB='nt'\n",
    "\n",
    "#percentage identity \n",
    "PER_ID = 95\n",
    "#Expect value (E) for saving hits\n",
    "E_VAL=0.001\n",
    "\n",
    "RUN_TYPE='soft_clipped'\n",
    "\n",
    "SOFT_FILE_POSTFIX='_soft_reads_GD_1_soft_clip_bwamem2_gatk_sorted_marked.fa'\n",
    "NUM_THREADS=6"
   ]
  },
  {
   "cell_type": "markdown",
   "id": "orange-stocks",
   "metadata": {},
   "source": [
    "Export a accession from db"
   ]
  },
  {
   "cell_type": "code",
   "execution_count": 3,
   "id": "optical-tribune",
   "metadata": {},
   "outputs": [],
   "source": [
    "def get_reads(sra_file):\n",
    "    readlist=[]\n",
    "    idlist=[]\n",
    "    for record in SeqIO.parse(sra_file, \"fasta\"):\n",
    "        idlist.append(record.id)\n",
    "        readlist.append(record.seq)\n",
    "    return idlist, readlist"
   ]
  },
  {
   "cell_type": "markdown",
   "id": "civil-spencer",
   "metadata": {},
   "source": [
    "### Local Blast"
   ]
  },
  {
   "cell_type": "code",
   "execution_count": 4,
   "id": "dying-channels",
   "metadata": {},
   "outputs": [],
   "source": [
    "#local BLAST\n",
    "#see https://www.biostars.org/p/332113/\n",
    "def search(idx, query_string, database_path, alfile, hspfile):\n",
    "    start_time=time.time()\n",
    "\n",
    "    #Number of aligned sequences to keep. \n",
    "    max_tgt_seqs=1\n",
    "    #Maximum number of HSPs (alignments) to keep for any single query-subject pair.\n",
    "    #If this option is not set (None), BLAST shows all HSPs meeting the expect value criteria.\n",
    "    max_hsps=1\n",
    "    blastn_cline = NcbiblastnCommandline(\n",
    "                                         db=database_path, \n",
    "                                         evalue=E_VAL,\n",
    "                                         outfmt=5, \n",
    "                                         perc_identity=PER_ID,\n",
    "                                         max_target_seqs=max_tgt_seqs, \n",
    "                                         max_hsps=max_hsps,\n",
    "                                         num_threads=NUM_THREADS\n",
    "                                        )\n",
    "    out, err = blastn_cline(stdin=query_string)\n",
    "    io_result = StringIO(out)\n",
    "    blast_records = list(NCBIXML.parse(io_result))\n",
    "    for blast_record in blast_records:\n",
    "        if len(blast_record.alignments) == 0:\n",
    "            continue\n",
    "        else:\n",
    "            alignment = blast_record.alignments[0]\n",
    "            title = alignment.title\n",
    "            query_length = blast_record.query_letters\n",
    "            alfile.write(f\"id: {idx}, title: {title}, accession: {alignment.accession}\\n\")\n",
    "            for hsp in alignment.hsps:\n",
    "                hspfile.write(f\"id: {idx}, title: {title}, accession: {alignment.accession}, hit_id: {alignment.hit_id}, length: {alignment.length}, query_length {blast_record.query_letters}, score: {hsp.score}, expect: {hsp.expect}, align_length: {hsp.align_length}, bits: {hsp.bits}, query: {hsp.query}, sbjct: {hsp.sbjct}, query_start: {hsp.query_start}, query_end: {hsp.query_end}, sbjct_start: {hsp.sbjct_start}, sbjct_end: {hsp.sbjct_end}\\n\")\n",
    "    return "
   ]
  },
  {
   "cell_type": "code",
   "execution_count": 5,
   "id": "eastern-drawing",
   "metadata": {},
   "outputs": [],
   "source": [
    "def process_blast(sra_fasta_path, blast_path, fasta):\n",
    "    idlist, readlist=get_reads(sra_fasta_path)\n",
    "\n",
    "    fast_f=fasta.split('.fa')[0]\n",
    "    result_file=f'{blast_path}{fast_f}_blast_{DB}_PCT{PER_ID}_E{E_VAL}.csv'\n",
    "    hsp_file=f'{blast_path}{fast_f}_blast_{DB}_PCT{PER_ID}_E{E_VAL}_hsps.txt'\n",
    "    hit_data=[]\n",
    "    \n",
    "    resultf= open(result_file,\"a\")\n",
    "    hspf= open(hsp_file,\"a\")\n",
    "    start_time=time.time()\n",
    "    i=0\n",
    "    for idx, r in zip(idlist,readlist):\n",
    "        hit_data.append(search(idx, r, DB, resultf, hspf))\n",
    "    resultf.close()\n",
    "    hspf.close()"
   ]
  },
  {
   "cell_type": "code",
   "execution_count": 6,
   "id": "another-pixel",
   "metadata": {},
   "outputs": [],
   "source": [
    "def run_blast(sra, fasta_path, fasta):\n",
    "    \n",
    "    blast_path=DATA_PATH+sra+'/'\n",
    "    blast_path=blast_path+'blast/'\n",
    "    pathlib.Path(blast_path).mkdir(exist_ok=True)\n",
    "    \n",
    "    sra_fasta_path=fasta_path+fasta\n",
    "    #empty if no alignments\n",
    "    with open(sra_fasta_path,\"r\") as f:\n",
    "        if len(f.readlines())>0:\n",
    "            print(f'--run_blast on sra: {sra}, fasta: {fasta}')\n",
    "            process_blast(sra_fasta_path, blast_path, fasta)"
   ]
  },
  {
   "cell_type": "code",
   "execution_count": 7,
   "id": "capital-flight",
   "metadata": {},
   "outputs": [],
   "source": [
    "\n",
    "SRAs=['SRR13053879']\n",
    "BAM_POST='_gd1_amplicon_seq_GD_1_soft_clip_bwamem2_gatk_sorted_marked.bam'"
   ]
  },
  {
   "cell_type": "code",
   "execution_count": 8,
   "id": "vulnerable-pension",
   "metadata": {},
   "outputs": [],
   "source": [
    "REF='GD_1'\n",
    "\n",
    "PREFIXES=['ml15__start','ml15__end']"
   ]
  },
  {
   "cell_type": "code",
   "execution_count": 9,
   "id": "seventh-solid",
   "metadata": {},
   "outputs": [
    {
     "name": "stdout",
     "output_type": "stream",
     "text": [
      "--run_blast on sra: SRR13053879, fasta: SRR13053879_GD_1_ml15__start_soft_reads_GD_1_soft_clip_bwamem2_gatk_sorted_marked.fa\n",
      "--run_blast on sra: SRR13053879, fasta: SRR13053879_GD_1_ml15__end_soft_reads_GD_1_soft_clip_bwamem2_gatk_sorted_marked.fa\n"
     ]
    }
   ],
   "source": [
    "idx=0\n",
    "for sra in SRAs:\n",
    "    for pref in PREFIXES:\n",
    "        fasta=sra+'_'+REF+'_'+pref+SOFT_FILE_POSTFIX\n",
    "        fasta_path=DATA_PATH+sra+'/bwa_mem2/soft_clip/'\n",
    "        if not os.path.isfile(fasta_path+fasta):\n",
    "            print(fasta_path+fasta) \n",
    "            raise Exception\n",
    "\n",
    "        run_blast(sra,fasta_path,fasta)\n"
   ]
  },
  {
   "cell_type": "code",
   "execution_count": null,
   "id": "extended-external",
   "metadata": {},
   "outputs": [],
   "source": []
  },
  {
   "cell_type": "code",
   "execution_count": null,
   "id": "applied-petroleum",
   "metadata": {},
   "outputs": [],
   "source": []
  }
 ],
 "metadata": {
  "kernelspec": {
   "display_name": "Python 3",
   "language": "python",
   "name": "python3"
  },
  "language_info": {
   "codemirror_mode": {
    "name": "ipython",
    "version": 3
   },
   "file_extension": ".py",
   "mimetype": "text/x-python",
   "name": "python",
   "nbconvert_exporter": "python",
   "pygments_lexer": "ipython3",
   "version": "3.6.12"
  }
 },
 "nbformat": 4,
 "nbformat_minor": 5
}
