{
 "cells": [
  {
   "cell_type": "code",
   "execution_count": 1,
   "id": "generic-tsunami",
   "metadata": {},
   "outputs": [],
   "source": [
    "import pathlib\n",
    "import subprocess\n",
    "import os\n",
    "import numpy as np\n",
    "import csv\n",
    "import pysam\n",
    "import deeptools.countReadsPerBin as crpb\n",
    "import deeptools.mapReduce as MapReduce\n",
    "import pysamstats\n",
    "import matplotlib.pyplot as plt\n",
    "import re"
   ]
  },
  {
   "cell_type": "markdown",
   "id": "polar-protest",
   "metadata": {},
   "source": [
    "### SAM format\n",
    "\n",
    "https://samtools.github.io/hts-specs/SAMv1.pdf"
   ]
  },
  {
   "cell_type": "code",
   "execution_count": 2,
   "id": "casual-spring",
   "metadata": {},
   "outputs": [
    {
     "data": {
      "text/html": [
       "<style>.container { width:95% !important; }</style>"
      ],
      "text/plain": [
       "<IPython.core.display.HTML object>"
      ]
     },
     "metadata": {},
     "output_type": "display_data"
    }
   ],
   "source": [
    "from IPython.core.display import display, HTML\n",
    "display(HTML(\"<style>.container { width:95% !important; }</style>\"))"
   ]
  },
  {
   "cell_type": "code",
   "execution_count": 3,
   "id": "behind-aspect",
   "metadata": {},
   "outputs": [],
   "source": [
    "PRJ='PRJNA607174'\n",
    "PRJ_OUT_PATH=f'/mnt/1TB_0/Data/Assembly/{PRJ}/'\n",
    "BASE_PATH=f'/mnt/6TB_0/Data/genbank/{PRJ}/'\n",
    "ALIGN_METHOD='bwa_mem2'\n",
    "MIN_LENGTH=15"
   ]
  },
  {
   "cell_type": "code",
   "execution_count": 4,
   "id": "animal-curve",
   "metadata": {},
   "outputs": [],
   "source": [
    "REF='hCoV-19/pangolin/Guangdong/1/2019|EPI_ISL_410721|2019'\n",
    "REF_CODE='GD_1'"
   ]
  },
  {
   "cell_type": "code",
   "execution_count": 5,
   "id": "baking-penny",
   "metadata": {},
   "outputs": [],
   "source": [
    "SRA='SRR13053879'\n",
    "BAM_POST='_gd1_amplicon_seq_GD_1_soft_clip_bwamem2_gatk_sorted_marked.bam'\n",
    "FA_POST=f'_reads_{REF_CODE}_soft_clip_bwamem2_gatk_sorted_marked.fa'"
   ]
  },
  {
   "cell_type": "markdown",
   "id": "monetary-madison",
   "metadata": {},
   "source": [
    "### bwa mem2\n",
    "\n",
    "soft clipped"
   ]
  },
  {
   "cell_type": "code",
   "execution_count": 6,
   "id": "demanding-conversation",
   "metadata": {},
   "outputs": [],
   "source": [
    "def read_bam(in_path, align_method, sra, file_postfix):\n",
    "    bam_file=in_path+sra+f'/{align_method}/'+f'{sra}{file_postfix}'\n",
    "    samfile = pysam.AlignmentFile(bam_file, \"rb\")\n",
    "    return samfile"
   ]
  },
  {
   "cell_type": "code",
   "execution_count": 7,
   "id": "imperial-adolescent",
   "metadata": {},
   "outputs": [],
   "source": [
    "def get_S_ends(read):\n",
    "    '''Note we limit to a minimum length'''\n",
    "    cig=read.cigar\n",
    "    start_soft_clipped=0\n",
    "    end_soft_clipped=0\n",
    "    if len(cig)>1:\n",
    "        if str(cig[0][0])=='4':\n",
    "            start_soft_clipped=int(cig[0][1])\n",
    "            if start_soft_clipped<MIN_LENGTH:\n",
    "                start_soft_clipped=0\n",
    "        if str(cig[-1][0])=='4':\n",
    "            end_soft_clipped=int(cig[-1][1])\n",
    "            if end_soft_clipped<MIN_LENGTH:\n",
    "                end_soft_clipped=0\n",
    "    return start_soft_clipped,end_soft_clipped"
   ]
  },
  {
   "cell_type": "code",
   "execution_count": 8,
   "id": "acute-delicious",
   "metadata": {},
   "outputs": [],
   "source": [
    "def get_soft_clipped(samfile, refseq):\n",
    "    start_clip_heads=[]\n",
    "    start_clip_seqs=[]\n",
    "    end_clip_heads=[]\n",
    "    end_clip_seqs=[]\n",
    "    both_ends=[]\n",
    "    start_only=[]\n",
    "    end_only=[]\n",
    "    for read in samfile.fetch(refseq):\n",
    "        start_soft_clipped,end_soft_clipped=get_S_ends(read)\n",
    "        qname=read.qname\n",
    "        seq=read.seq\n",
    "        if int(start_soft_clipped)>0:\n",
    "            start_clip_heads.append(f'{qname} cigar:{read.cigarstring} start:{start_soft_clipped}')\n",
    "            start_clip_seqs.append(f'{seq[:start_soft_clipped]}')\n",
    "        if int(end_soft_clipped)>0:\n",
    "            eq=len(seq)-end_soft_clipped\n",
    "            end_clip_heads.append(f'{qname} cigar:{read.cigarstring} end:{end_soft_clipped}')\n",
    "            end_clip_seqs.append(f'{seq[eq:]}') \n",
    "        if int(start_soft_clipped)>0 and int(end_soft_clipped)>0:\n",
    "            both_ends.append(qname)\n",
    "        elif int(start_soft_clipped)>0:\n",
    "            start_only.append(qname)\n",
    "        elif int(end_soft_clipped)>0:\n",
    "            end_only.append(qname)\n",
    "    return start_clip_heads,start_clip_seqs, end_clip_heads,end_clip_seqs, both_ends, start_only, end_only"
   ]
  },
  {
   "cell_type": "code",
   "execution_count": 9,
   "id": "planned-ceremony",
   "metadata": {},
   "outputs": [],
   "source": [
    "def write_fasta(clip_heads,clip_seqs, fname):\n",
    "    with open(fname, 'w') as fa:\n",
    "        for i in range(len(clip_heads)):\n",
    "            fa.write(f'>{clip_heads[i]}\\n')\n",
    "            fa.write(f'{clip_seqs[i]}\\n')"
   ]
  },
  {
   "cell_type": "code",
   "execution_count": 10,
   "id": "opponent-bottle",
   "metadata": {},
   "outputs": [
    {
     "name": "stdout",
     "output_type": "stream",
     "text": [
      "GD_1 for min len. 15 start clipped: 149, end clipped: 146, both_ends: 79, start_only 70, end_only: 67\n"
     ]
    }
   ],
   "source": [
    "\n",
    "samfile=read_bam(PRJ_OUT_PATH, ALIGN_METHOD, SRA, BAM_POST)\n",
    "spth=PRJ_OUT_PATH+SRA+f'/{ALIGN_METHOD}/soft_clip/'\n",
    "pathlib.Path(spth).mkdir(exist_ok=True)\n",
    "\n",
    "start_clip_heads,start_clip_seqs, end_clip_heads,end_clip_seqs,both_ends, start_only, end_only=get_soft_clipped(samfile, REF)\n",
    "print(f'{REF_CODE} for min len. {MIN_LENGTH} start clipped: {len(start_clip_heads)}, end clipped: {len(end_clip_heads)}, both_ends: {len(both_ends)}, start_only {len(start_only)}, end_only: {len(end_only)}')\n",
    "#start soft clipped\n",
    "fasta_postfix='_start_soft'+FA_POST\n",
    "start_out=spth+f'{SRA}_{REF_CODE}_ml{MIN_LENGTH}_{fasta_postfix}'\n",
    "write_fasta(start_clip_heads,start_clip_seqs, start_out)\n",
    "#end soft clipped\n",
    "fasta_postfix='_end_soft'+FA_POST\n",
    "end_out=spth+f'{SRA}_{REF_CODE}_ml{MIN_LENGTH}_{fasta_postfix}'\n",
    "write_fasta(end_clip_heads,end_clip_seqs, end_out)"
   ]
  },
  {
   "cell_type": "code",
   "execution_count": null,
   "id": "technical-nickel",
   "metadata": {},
   "outputs": [],
   "source": []
  },
  {
   "cell_type": "code",
   "execution_count": null,
   "id": "relevant-johns",
   "metadata": {},
   "outputs": [],
   "source": []
  }
 ],
 "metadata": {
  "kernelspec": {
   "display_name": "Python 3",
   "language": "python",
   "name": "python3"
  },
  "language_info": {
   "codemirror_mode": {
    "name": "ipython",
    "version": 3
   },
   "file_extension": ".py",
   "mimetype": "text/x-python",
   "name": "python",
   "nbconvert_exporter": "python",
   "pygments_lexer": "ipython3",
   "version": "3.6.12"
  }
 },
 "nbformat": 4,
 "nbformat_minor": 5
}
