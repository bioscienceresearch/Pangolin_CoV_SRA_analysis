{
 "cells": [
  {
   "cell_type": "code",
   "execution_count": 1,
   "id": "thorough-merchandise",
   "metadata": {},
   "outputs": [],
   "source": [
    "import numpy as np\n",
    "import math\n",
    "import pandas as pd\n",
    "from matplotlib import pyplot as plt\n",
    "import seaborn as sns\n",
    "from matplotlib.ticker import MaxNLocator\n",
    "from pandas.plotting import scatter_matrix\n",
    "import pathlib\n",
    "import warnings\n",
    "warnings.filterwarnings('ignore')"
   ]
  },
  {
   "cell_type": "code",
   "execution_count": 2,
   "id": "caring-insider",
   "metadata": {},
   "outputs": [
    {
     "data": {
      "text/html": [
       "<style>.container { width:95% !important; }</style>"
      ],
      "text/plain": [
       "<IPython.core.display.HTML object>"
      ]
     },
     "metadata": {},
     "output_type": "display_data"
    }
   ],
   "source": [
    "from IPython.core.display import display, HTML\n",
    "display(HTML(\"<style>.container { width:95% !important; }</style>\"))"
   ]
  },
  {
   "cell_type": "code",
   "execution_count": 3,
   "id": "hollow-chase",
   "metadata": {},
   "outputs": [],
   "source": [
    "PROJECT_CODE='PRJNA606875'\n",
    "BASE_PATH = f'/mnt/1TB_0/Data/Assembly/{PROJECT_CODE}/'\n",
    "\n",
    "dbname='nt'\n",
    "kmer='k141'\n",
    "\n",
    "f_contigs_file_tail=f'_{dbname}_magic_blast_asc_contigs.txt'"
   ]
  },
  {
   "cell_type": "code",
   "execution_count": 4,
   "id": "finite-updating",
   "metadata": {},
   "outputs": [],
   "source": [
    "subsets=['vector','virus']"
   ]
  },
  {
   "cell_type": "code",
   "execution_count": 5,
   "id": "trying-belarus",
   "metadata": {},
   "outputs": [],
   "source": [
    "sra_list=['SRR11093265', 'SRR11093266','SRR11093267','SRR11093268','SRR11093269','SRR11093270','SRR11093271']"
   ]
  },
  {
   "cell_type": "code",
   "execution_count": 6,
   "id": "alive-label",
   "metadata": {},
   "outputs": [],
   "source": [
    "def read_matched(asc_file, ignore_string=None):\n",
    "    contigs=[]\n",
    "    accessions=[]\n",
    "    desctiptions=[]\n",
    "    cigars=[]\n",
    "    with open(asc_file, 'r') as infile:\n",
    "        data = infile.readlines()\n",
    "        for i in data:\n",
    "            output=i.split('\\t')\n",
    "            descr=output[2].split(' ',1)[1]\n",
    "            if ignore_string is not None and ignore_string in descr:\n",
    "                pass\n",
    "            else:\n",
    "                contigs.append(output[0])\n",
    "                accessions.append(output[2].split(' ')[0])\n",
    "                desctiptions.append(descr)\n",
    "                cigars.append(output[5])\n",
    "    return contigs, accessions, desctiptions, cigars"
   ]
  },
  {
   "cell_type": "code",
   "execution_count": 7,
   "id": "stainless-river",
   "metadata": {},
   "outputs": [],
   "source": [
    "def process_file(asc_file, sra, ignore_string=None):\n",
    "    contigs, accessions, desctiptions, cigars=read_matched(asc_file, ignore_string)\n",
    "    sra_list=[sra] * len(contigs)\n",
    "    df = pd.DataFrame(list(zip(sra_list, contigs, accessions, desctiptions, cigars)),\n",
    "               columns =['sra', 'contig', 'accession','description','cigar'])\n",
    "    return df"
   ]
  },
  {
   "cell_type": "code",
   "execution_count": 8,
   "id": "played-waterproof",
   "metadata": {},
   "outputs": [],
   "source": [
    "def plot_df(df, dataset):\n",
    "    df['sra'].value_counts().plot(kind='bar')\n",
    "    plt.title(dataset +' contig counts by SRA')\n",
    "    plt.show()"
   ]
  },
  {
   "cell_type": "code",
   "execution_count": 9,
   "id": "revolutionary-knife",
   "metadata": {},
   "outputs": [],
   "source": [
    "def workflow():\n",
    "    for dataset in subsets:\n",
    "        path = BASE_PATH+'contigs_subsets/'+dataset+'/'\n",
    "        frames=[]\n",
    "        for sra in sra_list:\n",
    "            f=sra+'_'+dataset+'_subset'+'_'+f_contigs_file_tail\n",
    "            if dataset=='virus':\n",
    "                df=process_file(path+f, sra, ignore_string='retrovirus')\n",
    "            else:\n",
    "                df=process_file(path+f, sra)\n",
    "            if len(df)>0:\n",
    "                frames.append(df)\n",
    "        df_result = pd.concat(frames)\n",
    "        df_result.to_csv(path+PROJECT_CODE+'_'+dataset+'_dataframe.csv')\n",
    "        plot_df(df_result, dataset)"
   ]
  },
  {
   "cell_type": "code",
   "execution_count": 10,
   "id": "monthly-rendering",
   "metadata": {},
   "outputs": [
    {
     "data": {
      "image/png": "[encoded data removed]",
      "text/plain": [
       "<Figure size 432x288 with 1 Axes>"
      ]
     },
     "metadata": {
      "needs_background": "light"
     },
     "output_type": "display_data"
    },
    {
     "data": {
      "image/png": "[encoded data removed]",
      "text/plain": [
       "<Figure size 432x288 with 1 Axes>"
      ]
     },
     "metadata": {
      "needs_background": "light"
     },
     "output_type": "display_data"
    }
   ],
   "source": [
    "workflow()"
   ]
  },
  {
   "cell_type": "code",
   "execution_count": null,
   "id": "competent-secretariat",
   "metadata": {},
   "outputs": [],
   "source": []
  },
  {
   "cell_type": "code",
   "execution_count": null,
   "id": "graduate-tonight",
   "metadata": {},
   "outputs": [],
   "source": []
  }
 ],
 "metadata": {
  "kernelspec": {
   "display_name": "Python 3",
   "language": "python",
   "name": "python3"
  },
  "language_info": {
   "codemirror_mode": {
    "name": "ipython",
    "version": 3
   },
   "file_extension": ".py",
   "mimetype": "text/x-python",
   "name": "python",
   "nbconvert_exporter": "python",
   "pygments_lexer": "ipython3",
   "version": "3.6.12"
  }
 },
 "nbformat": 4,
 "nbformat_minor": 5
}
