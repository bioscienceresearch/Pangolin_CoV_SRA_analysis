{
 "cells": [
  {
   "cell_type": "code",
   "execution_count": 1,
   "id": "thorough-merchandise",
   "metadata": {},
   "outputs": [
    {
     "data": {
      "text/plain": [
       "'blastasm'"
      ]
     },
     "execution_count": 1,
     "metadata": {},
     "output_type": "execute_result"
    }
   ],
   "source": [
    "import re\n",
    "import numpy as np\n",
    "import time\n",
    "import os.path\n",
    "import sys\n",
    "import pandas as pd\n",
    "from matplotlib import pyplot as plt\n",
    "import seaborn as sns\n",
    "from io import StringIO\n",
    "from Bio import SeqIO\n",
    "import pysam\n",
    "from pandas.plotting import scatter_matrix\n",
    "import warnings\n",
    "import json\n",
    "import numpy as np\n",
    "import subprocess\n",
    "warnings.filterwarnings('ignore')\n",
    "sys.executable.split('/')[-3]"
   ]
  },
  {
   "cell_type": "code",
   "execution_count": 2,
   "id": "caring-insider",
   "metadata": {},
   "outputs": [
    {
     "data": {
      "text/html": [
       "<style>.container { width:95% !important; }</style>"
      ],
      "text/plain": [
       "<IPython.core.display.HTML object>"
      ]
     },
     "metadata": {},
     "output_type": "display_data"
    }
   ],
   "source": [
    "from IPython.core.display import display, HTML\n",
    "display(HTML(\"<style>.container { width:95% !important; }</style>\"))"
   ]
  },
  {
   "cell_type": "code",
   "execution_count": 3,
   "id": "hollow-chase",
   "metadata": {},
   "outputs": [],
   "source": [
    "PROJECT_CODE='PRJNA573298'\n",
    "BASE_PATH = f'/mnt/1TB_0/Data/Assembly/{PROJECT_CODE}/'"
   ]
  },
  {
   "cell_type": "code",
   "execution_count": 4,
   "id": "fa1236c9",
   "metadata": {},
   "outputs": [],
   "source": [
    "\n",
    "SRAs=['SRR10168373','SRR10168374', 'SRR10168375',\\\n",
    "     'SRR10168376','SRR10168377','SRR10168378',\\\n",
    "      'SRR10168379','SRR10168380','SRR10168381',\\\n",
    "      'SRR10168382','SRR10168383','SRR10168384',\\\n",
    "     'SRR10168385','SRR10168386','SRR10168387',\\\n",
    "      'SRR10168388','SRR10168389','SRR10168390',\\\n",
    "     'SRR10168391', 'SRR10168392','SRR10168393']\n",
    "\n",
    "#'PRJNA607174'\n",
    "#SRAs=['SRR12053850', 'SRR11119759', 'SRR11119760', 'SRR11119761','SRR11119762','SRR11119763',\\\n",
    "#      'SRR11119764','SRR11119765','SRR11119766',\\\n",
    "#      'SRR11119767']"
   ]
  },
  {
   "cell_type": "code",
   "execution_count": 5,
   "id": "f87d832c",
   "metadata": {},
   "outputs": [],
   "source": [
    "def refstats_df(mapped_names, alb_abbr, aln_type, aln_params):\n",
    "    #mp_hu_mus_megahit_default_toss_refstats.txt\n",
    "    frames=[]\n",
    "    for sra in SRAs:\n",
    "        ref_path=BASE_PATH+f'{sra}/seal/'\n",
    "        ref_file=f'{alb_abbr}_{aln_type}_{aln_params}_refstats.txt'\n",
    "        f = open(ref_path+ref_file, \"r\")\n",
    "        lines=f.readlines()\n",
    "        reads=[]\n",
    "        for l in lines:\n",
    "            for mn in mapped_names:\n",
    "                if l.startswith(mn):\n",
    "                    reads.append(l.split()[5])\n",
    "        sra_l=[sra]*len(mapped_names)\n",
    "        df = pd.DataFrame(list(zip(sra_l, mapped_names, reads)),\n",
    "               columns =['SRA', 'Name', 'Reads'])\n",
    "        frames.append(df)\n",
    "    #ref_df = pd.concat(frames)\n",
    "    return frames"
   ]
  },
  {
   "cell_type": "code",
   "execution_count": 6,
   "id": "2fd29317",
   "metadata": {},
   "outputs": [],
   "source": [
    "def plot_4_stackplots(df):\n",
    "    df.plot(\n",
    "      x = 'Name', \n",
    "      kind = 'bar', \n",
    "      stacked = True, \n",
    "      title = 'Percentage Stacked Bar Graph', \n",
    "      mark_right = True)\n",
    "\n",
    "    df_total = df[\"human\"] + df[\"mouse\"] + df[\"manjav\"]+ df[\"manpten\"]\n",
    "    df_rel = df[df.columns[1:]].div(df_total, 0)*100\n",
    "\n",
    "    for n in df_rel:\n",
    "        for i, (cs, ab, pc) in enumerate(zip(df.iloc[:, 1:].cumsum(1)[n], \n",
    "                                             df[n], df_rel[n])):\n",
    "            plt.text(cs - ab / 2, i, str(np.round(pc, 1)) + '%', \n",
    "                     va = 'center', ha = 'center')"
   ]
  },
  {
   "cell_type": "code",
   "execution_count": 7,
   "id": "97af33af",
   "metadata": {},
   "outputs": [],
   "source": [
    "def get_pct(y_arr, tot_arr):\n",
    "    pct_arr=[]\n",
    "    for i,val in enumerate(y_arr.tolist()):\n",
    "        #print(f'i: {i}, val: {val}')\n",
    "        pct=(val/tot_arr[i])*100\n",
    "        pct_arr.append(pct)\n",
    "    pct_arr=np.array(pct_arr)\n",
    "    return pct_arr"
   ]
  },
  {
   "cell_type": "code",
   "execution_count": 8,
   "id": "8f23274e",
   "metadata": {},
   "outputs": [],
   "source": [
    "def plot_generator(l_manjav,l_manpten,l_human,l_mouse,l_other,sra_totals, y_scale):\n",
    "    y0=np.array(l_manjav)\n",
    "    y1=np.array(l_manpten)\n",
    "    y2=np.array(l_human)\n",
    "    y3=np.array(l_mouse)\n",
    "    y4=None\n",
    "    if y_scale=='normalized':\n",
    "        y0=get_pct(y0, sra_totals)\n",
    "        y1=get_pct(y1, sra_totals)\n",
    "        y2=get_pct(y2, sra_totals)\n",
    "        y3=get_pct(y3, sra_totals)\n",
    "    ymax=0\n",
    "\n",
    "    if len(mapped_names)==5:\n",
    "        y4=np.array(l_other)\n",
    "        if y_scale=='normalized':\n",
    "            y4=get_pct(y4, sra_totals)\n",
    "        for l in zip(l_manjav,l_manpten,l_human,l_mouse,l_other):\n",
    "            mx=max(l)\n",
    "            if mx>ymax: ymax=mx\n",
    "    else:\n",
    "        for l in zip(l_manjav,l_manpten,l_human,l_mouse):\n",
    "            mx=max(l)\n",
    "            if mx>ymax: ymax=mx\n",
    "    \n",
    "    ymax=ymax+ymax/7\n",
    "    ymax -= ymax % -100  # Round x up to next multiple of 100.\n",
    "    return y0,y1,y2,y3,y4,ymax\n",
    "    "
   ]
  },
  {
   "cell_type": "code",
   "execution_count": 9,
   "id": "8bcfb1b2",
   "metadata": {},
   "outputs": [],
   "source": [
    "def plot_flagtools_stackplots(frames, file_name, mapped_names, title, y_scale='log', fig_width=12, save_fig=True):\n",
    "    #SRA \tmapped \tproperly paired \taln_ref\n",
    "    #human, mouse, manjav\n",
    "    l_human=[]\n",
    "    l_mouse=[]\n",
    "    l_manjav=[]\n",
    "    l_manpten=[]\n",
    "    l_other=[]\n",
    "    sra_totals=[]\n",
    "    #mapped_names=['YNU_ManJav_2.0','GRCh38','GRCm39', 'YNU_ManPten_2.0']\n",
    "    for i, df in enumerate(frames):\n",
    "        h=int(df.loc[df.Name == 'GRCh38','Reads'].values[0])\n",
    "        l_human.append(h)\n",
    "        m=int(df.loc[df.Name == 'GRCm39','Reads'].values[0])\n",
    "        l_mouse.append(m)\n",
    "        mj=int(df.loc[df.Name == 'YNU_ManJav_2.0','Reads'].values[0])\n",
    "        l_manjav.append(mj)\n",
    "        mp=int(df.loc[df.Name == 'YNU_ManPten_2.0','Reads'].values[0])\n",
    "        l_manpten.append(mp)\n",
    "        sra_totals.append(h+m+mj+mp)\n",
    "        if len(mapped_names)==5:\n",
    "            o=int(df.loc[df.Name == 'shrimp','Reads'].values[0])\n",
    "            l_other.append(o)\n",
    "            sra_totals[-1]=sra_totals[-1]+o\n",
    "        sra=df['SRA'].iloc[0]\n",
    "        assert sra==SRAs[i]\n",
    "\n",
    "    y0,y1,y2,y3,y4,ymax=plot_generator(l_manjav,l_manpten,l_human,l_mouse,l_other,sra_totals, y_scale)\n",
    "    y0n,y1n,y2n,y3n,y4n,ymaxn=plot_generator(l_manjav,l_manpten,l_human,l_mouse,l_other,sra_totals, y_scale='normalized')\n",
    "    legend_order=['ManJav','ManPten', 'human', 'mouse', 'shrimp']\n",
    "    \n",
    "    fig, axes = plt.subplots(nrows=1, ncols=2, figsize=(fig_width, 6))\n",
    "    #plt.rcParams[\"figure.figsize\"] = (fig_width,6)\n",
    "    axes[0].bar(SRAs, y0, color='#FAC748')\n",
    "    axes[0].bar(SRAs, y1, bottom=y0, color='skyblue') \n",
    "    axes[0].bar(SRAs, y2, bottom=y0+y1, color='#1D2F6F')\n",
    "    axes[0].bar(SRAs, y3, bottom=y0+y1+y2, color='#6EAF46')\n",
    "    if len(mapped_names)==5:\n",
    "        axes[0].bar(SRAs, y4, bottom=y0+y1+y2+y3, color='indianred')\n",
    "    axes[0].set_ylabel('counts')\n",
    "    if y_scale=='log':\n",
    "        axes[0].set_yscale('log')\n",
    "    elif y_scale=='linear':\n",
    "        axes[0].set_ylim(0,ymax)\n",
    "    axes[0].legend(legend_order)\n",
    "\n",
    "    axes[0].tick_params(axis='x', rotation=90)\n",
    "    #axes[0].set_title(title, loc='left')\n",
    "\n",
    "    axes[1].bar(SRAs, y0n, color='#FAC748')\n",
    "    axes[1].bar(SRAs, y1n, bottom=y0n, color='skyblue') \n",
    "    axes[1].bar(SRAs, y2n, bottom=y0n+y1n, color='#1D2F6F')\n",
    "    axes[1].bar(SRAs, y3n, bottom=y0n+y1n+y2n, color='#6EAF46')\n",
    "    if len(mapped_names)==5:\n",
    "        axes[1].bar(SRAs, y4n, bottom=y0n+y1n+y2n+y3n, color='indianred')\n",
    "    axes[1].set_ylabel('percentage')\n",
    "    axes[1].set_ylim(0,100)\n",
    "    axes[1].legend(legend_order)\n",
    "    \n",
    "    axes[1].tick_params(axis='x', rotation=90)\n",
    "    plt.title(title, x=0.1, y=1.02)\n",
    "    fig.tight_layout()\n",
    "    if save_fig:\n",
    "        plt.savefig(f'{BASE_PATH}/general_plots/{file_name}', bbox_inches='tight')"
   ]
  },
  {
   "cell_type": "code",
   "execution_count": 10,
   "id": "4e79d090",
   "metadata": {},
   "outputs": [],
   "source": [
    "def plot_flagtools_single_stackplots(frames, file_name, mapped_names, title, y_scale='log', fig_width=12, save_fig=False):\n",
    "    #SRA \tmapped \tproperly paired \taln_ref\n",
    "    #human, mouse, manjav\n",
    "    l_human=[]\n",
    "    l_mouse=[]\n",
    "    l_manjav=[]\n",
    "    l_manpten=[]\n",
    "    l_other=[]\n",
    "    sra_totals=[]\n",
    "    #mapped_names=['YNU_ManJav_2.0','GRCh38','GRCm39', 'YNU_ManPten_2.0']\n",
    "    for i, df in enumerate(frames):\n",
    "        h=int(df.loc[df.Name == 'GRCh38','Reads'].values[0])\n",
    "        l_human.append(h)\n",
    "        m=int(df.loc[df.Name == 'GRCm39','Reads'].values[0])\n",
    "        l_mouse.append(m)\n",
    "        mj=int(df.loc[df.Name == 'YNU_ManJav_2.0','Reads'].values[0])\n",
    "        l_manjav.append(mj)\n",
    "        mp=int(df.loc[df.Name == 'YNU_ManPten_2.0','Reads'].values[0])\n",
    "        l_manpten.append(mp)\n",
    "        sra_totals.append(h+m+mj+mp)\n",
    "        if len(mapped_names)==5:\n",
    "            o=int(df.loc[df.Name == 'shrimp','Reads'].values[0])\n",
    "            l_other.append(o)\n",
    "            sra_totals[-1]=sra_totals[-1]+o\n",
    "        sra=df['SRA'].iloc[0]\n",
    "        assert sra==SRAs[i]\n",
    "\n",
    "    if y_scale=='normalized':\n",
    "        y0,y1,y2,y3,y4,ymaxn=plot_generator(l_manjav,l_manpten,l_human,l_mouse,l_other,sra_totals, y_scale='normalized')\n",
    "    else:\n",
    "        y0,y1,y2,y3,y4,ymax=plot_generator(l_manjav,l_manpten,l_human,l_mouse,l_other,sra_totals, y_scale)\n",
    "    legend_order=['ManJav','ManPten', 'human', 'mouse', 'shrimp']\n",
    "    \n",
    "    #save the df\n",
    "    df=pd.DataFrame(list(zip(SRAs, y0.tolist(),y1.tolist(),y2.tolist(),y3.tolist())),\n",
    "              columns=['SRA', 'ManJav','ManPten', 'human', 'mouse'])\n",
    "    print(f'saving to {file_name}_df.csv')\n",
    "    df.to_csv(f'{BASE_PATH}/general_plots/{file_name}_df.csv', index=False)\n",
    "    \n",
    "    \n",
    "    #fig, axes = plt.subplots(nrows=1, ncols=2, figsize=(fig_width, 6))\n",
    "    plt.rcParams[\"figure.figsize\"] = (fig_width,6)\n",
    "    plt.bar(SRAs, y0, color='#FAC748')\n",
    "    plt.bar(SRAs, y1, bottom=y0, color='skyblue') \n",
    "    plt.bar(SRAs, y2, bottom=y0+y1, color='#1D2F6F')\n",
    "    plt.bar(SRAs, y3, bottom=y0+y1+y2, color='#6EAF46')\n",
    "    if len(mapped_names)==5:\n",
    "        plt.bar(SRAs, y4, bottom=y0+y1+y2+y3, color='indianred')\n",
    "    plt.ylabel('counts')\n",
    "    if y_scale=='log':\n",
    "        plt.yscale('log')\n",
    "    elif y_scale=='linear':\n",
    "        plt.ylim(0,ymax)\n",
    "    plt.legend(legend_order)\n",
    "\n",
    "    plt.tick_params(axis='x', rotation=90)\n",
    "    #axes[0].set_title(title, loc='left')\n",
    "\n",
    "    plt.title(title)\n",
    "    plt.tight_layout()\n",
    "    if save_fig:\n",
    "        plt.savefig(f'{BASE_PATH}/general_plots/{file_name}', bbox_inches='tight')\n",
    "        \n",
    "    "
   ]
  },
  {
   "cell_type": "code",
   "execution_count": 11,
   "id": "9d10e7de",
   "metadata": {},
   "outputs": [],
   "source": [
    "mapped_names=['YNU_ManJav_2.0','GRCh38','GRCm39','YNU_ManPten_2.0']"
   ]
  },
  {
   "cell_type": "code",
   "execution_count": 12,
   "id": "a941c013",
   "metadata": {},
   "outputs": [],
   "source": [
    "alb_abbr='mp_hu_mus_cp'\n",
    "aln_type='megahit'\n",
    "aln_params='default_toss'"
   ]
  },
  {
   "cell_type": "code",
   "execution_count": 13,
   "id": "ceaa06f6",
   "metadata": {},
   "outputs": [],
   "source": [
    "#save out semi proc data\n",
    "frames=refstats_df(mapped_names, alb_abbr, aln_type, aln_params)\n",
    "ref_df = pd.concat(frames)\n",
    "#ref_df.to_csv(f'{BASE_PATH}/general_plots/PRJNA573298_Seal_fig5_02052022.csv')"
   ]
  },
  {
   "cell_type": "code",
   "execution_count": 14,
   "id": "fd98dd86",
   "metadata": {},
   "outputs": [
    {
     "name": "stdout",
     "output_type": "stream",
     "text": [
      "saving to seal_default_toss_megahit_mp_hu_mus_cp_normalized_df.csv\n"
     ]
    },
    {
     "data": {
      "image/png": "[encoded data removed]",
      "text/plain": [
       "<Figure size 864x432 with 1 Axes>"
      ]
     },
     "metadata": {
      "needs_background": "light"
     },
     "output_type": "display_data"
    }
   ],
   "source": [
    "y_scale='normalized'\n",
    "y_scale_txt = y_scale.replace(\"'\", \"\")\n",
    "file_name=f'seal_{aln_params}_{aln_type}_{alb_abbr}_{y_scale_txt}'\n",
    "\n",
    "#title=f\"Seal: ManJav, ManPten, Human, Mouse [ambiguous={aln_params.split('_')[1]}], {y_scale_txt} and normalized scales\"\n",
    "#plot_flagtools_stackplots(frames, file_name, mapped_names, title, y_scale=y_scale, fig_width=12, save_fig=True)\n",
    "\n",
    "title=f\"Seal: ManJav, ManPten, Human, Mouse [ambiguous={aln_params.split('_')[1]}], {y_scale_txt} scale\"\n",
    "plot_flagtools_single_stackplots(frames, file_name, mapped_names, title, y_scale=y_scale, fig_width=12, save_fig=False)"
   ]
  },
  {
   "cell_type": "code",
   "execution_count": 15,
   "id": "38779710",
   "metadata": {},
   "outputs": [],
   "source": [
    "alb_abbr='mp_hu_mus_cp'\n",
    "aln_type='megahit'\n",
    "aln_params='default_all'"
   ]
  },
  {
   "cell_type": "code",
   "execution_count": 16,
   "id": "5c82b1fc",
   "metadata": {},
   "outputs": [],
   "source": [
    "frames=refstats_df(mapped_names, alb_abbr, aln_type, aln_params)"
   ]
  },
  {
   "cell_type": "code",
   "execution_count": 17,
   "id": "12a5d044",
   "metadata": {},
   "outputs": [
    {
     "name": "stdout",
     "output_type": "stream",
     "text": [
      "saving to seal_default_all_megahit_mp_hu_mus_cp_normalized_df.csv\n"
     ]
    },
    {
     "data": {
      "image/png": "[encoded data removed]",
      "text/plain": [
       "<Figure size 864x432 with 1 Axes>"
      ]
     },
     "metadata": {
      "needs_background": "light"
     },
     "output_type": "display_data"
    }
   ],
   "source": [
    "y_scale='normalized'\n",
    "y_scale_txt = y_scale.replace(\"'\", \"\")\n",
    "file_name=f'seal_{aln_params}_{aln_type}_{alb_abbr}_{y_scale_txt}'\n",
    "\n",
    "#title=f\"Seal: ManJav, ManPten, Human, Mouse [ambiguous={aln_params.split('_')[1]}], {y_scale_txt} and normalized scales\"\n",
    "#plot_flagtools_stackplots(frames, file_name, mapped_names, title, y_scale=y_scale, fig_width=16, save_fig=True)\n",
    "\n",
    "title=f\"Seal: ManJav, ManPten, Human, Mouse [ambiguous={aln_params.split('_')[1]}], {y_scale_txt} scale\"\n",
    "plot_flagtools_single_stackplots(frames, file_name, mapped_names, title, y_scale=y_scale, fig_width=12, save_fig=False)"
   ]
  },
  {
   "cell_type": "code",
   "execution_count": null,
   "id": "af0d9471",
   "metadata": {},
   "outputs": [],
   "source": []
  }
 ],
 "metadata": {
  "kernelspec": {
   "display_name": "Python 3",
   "language": "python",
   "name": "python3"
  },
  "language_info": {
   "codemirror_mode": {
    "name": "ipython",
    "version": 3
   },
   "file_extension": ".py",
   "mimetype": "text/x-python",
   "name": "python",
   "nbconvert_exporter": "python",
   "pygments_lexer": "ipython3",
   "version": "3.6.13"
  }
 },
 "nbformat": 4,
 "nbformat_minor": 5
}
