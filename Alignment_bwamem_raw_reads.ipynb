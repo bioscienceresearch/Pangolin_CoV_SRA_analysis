{
 "cells": [
  {
   "cell_type": "code",
   "execution_count": 31,
   "id": "generic-tsunami",
   "metadata": {},
   "outputs": [],
   "source": [
    "import pathlib\n",
    "import subprocess\n",
    "import os\n",
    "import os.path"
   ]
  },
  {
   "cell_type": "code",
   "execution_count": 32,
   "id": "casual-spring",
   "metadata": {},
   "outputs": [
    {
     "data": {
      "text/html": [
       "<style>.container { width:95% !important; }</style>"
      ],
      "text/plain": [
       "<IPython.core.display.HTML object>"
      ]
     },
     "metadata": {},
     "output_type": "display_data"
    }
   ],
   "source": [
    "from IPython.core.display import display, HTML\n",
    "display(HTML(\"<style>.container { width:95% !important; }</style>\"))"
   ]
  },
  {
   "cell_type": "code",
   "execution_count": 38,
   "id": "identified-thirty",
   "metadata": {},
   "outputs": [],
   "source": [
    "### BWA-MEM"
   ]
  },
  {
   "cell_type": "code",
   "execution_count": 39,
   "id": "stock-cruise",
   "metadata": {},
   "outputs": [],
   "source": [
    "\n",
    "BWA_MEM=\"~/apps/bwa-0.7.17/bwa\"\n",
    "#BWA_MEM_OUT=PRJ_OUT_PATH+'bwa_mem2/'\n"
   ]
  },
  {
   "cell_type": "code",
   "execution_count": 40,
   "id": "internal-relation",
   "metadata": {},
   "outputs": [],
   "source": [
    "def create_index():\n",
    "    cmd = f\"{BWA_MEM} index {REF_PATH+REF_NAME}\"\n",
    "    subprocess.check_call(cmd, shell=True)"
   ]
  },
  {
   "cell_type": "code",
   "execution_count": 41,
   "id": "superior-nevada",
   "metadata": {},
   "outputs": [],
   "source": [
    "def run_fastp(in_1, in_2, sra):\n",
    "    in_b_1=in_1.split(\"_f1_fastp.fq\")[0]+'_1.fq'\n",
    "    in_b_2=in_2.split(\"_r2_fastp.fq\")[0]+'_2.fq'\n",
    "    out_1=in_1\n",
    "    out_2=in_2\n",
    "    qc_file=in_1.split(\"_f1_fastp.fq\")[0]+'_fastp_qc'\n",
    "    cmd = f\"fastp -i {in_b_1} -o {out_1} -I {in_b_2}  -O {out_2} -j {qc_file}.json -h {qc_file}.html -R {sra}\"\n",
    "    subprocess.check_call(cmd, shell=True)\n",
    "    return out_1, out_2"
   ]
  },
  {
   "cell_type": "code",
   "execution_count": 42,
   "id": "artificial-syndication",
   "metadata": {},
   "outputs": [],
   "source": [
    "def create_fq(contigs_path):\n",
    "    try:\n",
    "        cmd= f\"~/apps/bbmap/reformat.sh in={contigs_path}{contig_mer}.contigs.fa out={contigs_path}{contig_mer}.contigs.fq\"\n",
    "        subprocess.check_call(cmd, shell=True)\n",
    "    except subprocess.CalledProcessError as e:\n",
    "        raise RuntimeError(\"command '{}' return with error (code {}): {}\".format(e.cmd, e.returncode, e.output))"
   ]
  },
  {
   "cell_type": "code",
   "execution_count": 43,
   "id": "portable-continent",
   "metadata": {},
   "outputs": [],
   "source": [
    "def run_bwa(bwa_path, sra, fastq1, fastq2, description=\"\", options=\"\"):\n",
    "    ref=REF_NAME.split('.fa')[0]\n",
    "    out_file= f\"{bwa_path}{sra}_reads_fastp_{ref}{description}_bwamem.sam\"\n",
    "    try:\n",
    "        cmd = f\"{BWA_MEM} mem {REF_PATH+REF_NAME} {fastq1} {fastq2} {options} > {out_file} -t {NUM_THREADS}\"\n",
    "        subprocess.check_call(cmd, shell=True)\n",
    "    except subprocess.CalledProcessError as e:\n",
    "        raise RuntimeError(\"command '{}' return with error (code {}): {}\".format(e.cmd, e.returncode, e.output))\n",
    "    return out_file"
   ]
  },
  {
   "cell_type": "code",
   "execution_count": 44,
   "id": "hollow-quantum",
   "metadata": {},
   "outputs": [],
   "source": [
    "def run_bwa_single(bwa_path, sra, fastq1, description=\"\", options=\"\"):\n",
    "    ref=REF_NAME.split('.fa')[0]\n",
    "    out_file= f\"{bwa_path}{sra}_reads_fastp_{ref}_bwamem.sam\"\n",
    "    try:\n",
    "        cmd = f\"{BWA_MEM} mem {REF_PATH+REF_NAME} {fastq1} {options} > {out_file} -t {NUM_THREADS}\"\n",
    "        subprocess.check_call(cmd, shell=True)\n",
    "        print(cmd)\n",
    "    except subprocess.CalledProcessError as e:\n",
    "        raise RuntimeError(\"command '{}' return with error (code {}): {}\".format(e.cmd, e.returncode, e.output))\n",
    "    return out_file"
   ]
  },
  {
   "cell_type": "code",
   "execution_count": 45,
   "id": "fitted-function",
   "metadata": {},
   "outputs": [],
   "source": [
    "def gatk_sort(bwa_mem_out):\n",
    "    out_file=bwa_mem_out.split('.sam')[0]\n",
    "    out_file=out_file+'_gatk_sorted.sam'\n",
    "    try:\n",
    "        cmd=f\"java -jar ~/apps/gatk-4.1.9.0/gatk-package-4.1.9.0-local.jar  SortSam INPUT={bwa_mem_out} OUTPUT={out_file} SORT_ORDER=coordinate VALIDATION_STRINGENCY=SILENT\"\n",
    "        subprocess.check_call(cmd, shell=True)\n",
    "    except subprocess.CalledProcessError as e:\n",
    "        raise RuntimeError(\"command '{}' return with error (code {}): {}\".format(e.cmd, e.returncode, e.output))\n",
    "    return out_file"
   ]
  },
  {
   "cell_type": "code",
   "execution_count": 46,
   "id": "welcome-catch",
   "metadata": {},
   "outputs": [],
   "source": [
    "def gatk_metrics(gatk_out):\n",
    "    gatk_file=gatk_out.split('.sam')[0]\n",
    "    out_file=gatk_file+'_marked.bam'\n",
    "    metrics_file=gatk_file+'_metrics.txt'\n",
    "    try:\n",
    "        cmd=f\"java -Xmx64G -jar ~/apps/gatk-4.1.9.0/gatk-package-4.1.9.0-local.jar  MarkDuplicates INPUT={gatk_out} OUTPUT={out_file} METRICS_FILE={metrics_file} ASSUME_SORTED=true VALIDATION_STRINGENCY=SILENT\"\n",
    "        subprocess.check_call(cmd, shell=True)\n",
    "    except subprocess.CalledProcessError as e:\n",
    "        raise RuntimeError(\"command '{}' return with error (code {}): {}\".format(e.cmd, e.returncode, e.output))\n",
    "    return out_file"
   ]
  },
  {
   "cell_type": "code",
   "execution_count": 47,
   "id": "welsh-development",
   "metadata": {},
   "outputs": [],
   "source": [
    "def index_bam(gatk_bam_file):\n",
    "    try:\n",
    "        cmd=f\"~/apps/samtools-1.11/samtools index {gatk_bam_file}\"\n",
    "        subprocess.check_call(cmd, shell=True)\n",
    "    except subprocess.CalledProcessError as e:\n",
    "        raise RuntimeError(\"command '{}' return with error (code {}): {}\".format(e.cmd, e.returncode, e.output))"
   ]
  },
  {
   "cell_type": "code",
   "execution_count": 48,
   "id": "copyrighted-provincial",
   "metadata": {},
   "outputs": [],
   "source": [
    "def remove_file(file_to_del):\n",
    "    cmd = f\"rm {file_to_del}\"\n",
    "    subprocess.check_call(cmd, shell=True)"
   ]
  },
  {
   "cell_type": "code",
   "execution_count": 49,
   "id": "intimate-baking",
   "metadata": {},
   "outputs": [],
   "source": [
    "def run_bamstats(bam_file, stats_out):\n",
    "    cmd=f'java -jar ~/apps/BAMStats-1.25/BAMStats-1.25.jar -i {bam_file} -m -q -o {stats_out}'\n",
    "    subprocess.check_call(cmd, shell=True)"
   ]
  },
  {
   "cell_type": "code",
   "execution_count": 50,
   "id": "positive-motel",
   "metadata": {},
   "outputs": [],
   "source": [
    "def create_bed(fasta_file, bed_file):\n",
    "    cmd=f'faidx --transform bed {fasta_file} > {bed_file}'\n",
    "    subprocess.check_call(cmd, shell=True)"
   ]
  },
  {
   "cell_type": "code",
   "execution_count": 51,
   "id": "radio-roads",
   "metadata": {},
   "outputs": [],
   "source": [
    "def prep_bed():\n",
    "    fasta_file=REF_PATH+REF_NAME\n",
    "    bed_file=REF_PATH+'bed/'+REF_NAME.split('.fa')[0]+'.bed'\n",
    "    pathlib.Path(REF_PATH+'bed/').mkdir(exist_ok=True)\n",
    "    create_bed(fasta_file, bed_file)\n",
    "    return bed_file"
   ]
  },
  {
   "cell_type": "code",
   "execution_count": 52,
   "id": "18292d5a",
   "metadata": {},
   "outputs": [],
   "source": [
    "def bam_to_bed(gatk_bam_file):\n",
    "    bed_file=gatk_bam_file.split('.bam')[0]+'.bed'\n",
    "    cmd=f'~/apps/bedtools/bedtools bamtobed -i {gatk_bam_file} >{bed_file}'\n",
    "    subprocess.check_call(cmd, shell=True)"
   ]
  },
  {
   "cell_type": "code",
   "execution_count": 53,
   "id": "domestic-difficulty",
   "metadata": {},
   "outputs": [],
   "source": [
    "def run_bamdst(bed_file, out_path, bam_in):\n",
    "    cmd=f'/mnt/1TB_0/Data/Code/external/bamdst/bamdst -p {bed_file} -o {out_path} {bam_in}'\n",
    "    subprocess.check_call(cmd, shell=True)"
   ]
  },
  {
   "cell_type": "code",
   "execution_count": 54,
   "id": "bb12328c",
   "metadata": {},
   "outputs": [],
   "source": [
    "def run_samtools_stats(gatk_bam_file, ref_genome):\n",
    "    bam_path_root=gatk_bam_file.split('.bam')[0]\n",
    "    sam_out=bam_path_root+'_samtools_stats.txt'\n",
    "    cmd=f'~/apps/samtools-1.11/samtools stats {gatk_bam_file} --reference {ref_genome} >{sam_out}'\n",
    "    subprocess.check_call(cmd, shell=True)"
   ]
  },
  {
   "cell_type": "code",
   "execution_count": 55,
   "id": "bae30992",
   "metadata": {},
   "outputs": [],
   "source": [
    "def run_flagtools(gatk_bam_file):\n",
    "    bam_path_root=gatk_bam_file.split('.bam')[0]\n",
    "    flagstat_file=bam_path_root+'_flagtools.txt'\n",
    "    cmd=f'~/apps/samtools-1.11/samtools flagstat {gatk_bam_file} >{flagstat_file}'\n",
    "    subprocess.check_call(cmd, shell=True)"
   ]
  },
  {
   "cell_type": "code",
   "execution_count": 56,
   "id": "moral-victor",
   "metadata": {},
   "outputs": [],
   "source": [
    "def workflow(bed_file=None):\n",
    "    for idx, sra in enumerate(SRAs):\n",
    "        fastq1=FASTQ_FILES[2*idx]\n",
    "        fastq2=FASTQ_FILES[(2*idx)+1]\n",
    "        print(f'{sra}')\n",
    "        if not os.path.isfile(PRJ_OUT_PATH):\n",
    "            pathlib.Path(PRJ_OUT_PATH).mkdir(exist_ok=True)\n",
    "        bwa_path=PRJ_OUT_PATH+sra\n",
    "        if not os.path.isfile(bwa_path):\n",
    "            pathlib.Path(bwa_path).mkdir(exist_ok=True)\n",
    "        bwa_path=PRJ_OUT_PATH+sra+'/bwa_mem/'\n",
    "        if not os.path.isfile(bwa_path):\n",
    "            pathlib.Path(bwa_path).mkdir(exist_ok=True)\n",
    "        #f1path=BASE_PATH+sra+'/'+fastq1\n",
    "        #f2path=BASE_PATH+sra+'/'+fastq2\n",
    "        f1path=BASE_PATH+fastq1\n",
    "        f2path=BASE_PATH+fastq2\n",
    "        if not os.path.isfile(f1path):\n",
    "            if RUN_FASTP:\n",
    "                run_fastp(f1path, f2path, sra)\n",
    "            else:\n",
    "                print(f'check file exists: {f1path}')\n",
    "        bwa_mem_out=run_bwa(bwa_path, sra, f1path, f2path, description=DESCRIPTION, options=OPTIONS)\n",
    "        gatk_out=gatk_sort(bwa_mem_out)\n",
    "        gatk_bam_file=gatk_metrics(gatk_out)\n",
    "        index_bam(gatk_bam_file)\n",
    "        remove_file(bwa_mem_out)\n",
    "        remove_file(gatk_out)\n",
    "        \n",
    "        run_samtools_stats(gatk_bam_file, REF_PATH+REF_NAME)\n",
    "        run_flagtools(gatk_bam_file)\n",
    "        bam_to_bed(gatk_bam_file)\n",
    "        out_path=bwa_path+f'bamstats_{ALIGN_NAME}/'\n",
    "        if not os.path.isfile(out_path):\n",
    "            pathlib.Path(out_path).mkdir(exist_ok=True)\n",
    "        stats_out=out_path+sra+BAMSTATS_POST\n",
    "        run_bamstats(gatk_bam_file, stats_out)\n",
    "        if bed_file:\n",
    "            out_path=bwa_path+f'bamdst_{ALIGN_NAME}/'\n",
    "            if not os.path.isfile(out_path):\n",
    "                pathlib.Path(out_path).mkdir(exist_ok=True)\n",
    "            run_bamdst(bed_file, out_path, gatk_bam_file)"
   ]
  },
  {
   "cell_type": "code",
   "execution_count": 57,
   "id": "stretch-medline",
   "metadata": {},
   "outputs": [],
   "source": [
    "def workflow_single(bed_file=None):\n",
    "    for idx, sra in enumerate(SRAsingle):\n",
    "        fastq1=FASTQ_FILES_SINGLE[idx]\n",
    "        print(f'{sra}')\n",
    "        if not os.path.isfile(PRJ_OUT_PATH):\n",
    "            pathlib.Path(PRJ_OUT_PATH).mkdir(exist_ok=True)\n",
    "        bwa_path=PRJ_OUT_PATH+sra\n",
    "        if not os.path.isfile(bwa_path):\n",
    "            pathlib.Path(bwa_path).mkdir(exist_ok=True)\n",
    "        bwa_path=PRJ_OUT_PATH+sra+'/bwa_mem/'\n",
    "        if not os.path.isfile(bwa_path):\n",
    "            pathlib.Path(bwa_path).mkdir(exist_ok=True)\n",
    "        #f1path=BASE_PATH+sra+'/'+fastq1\n",
    "        f1path=BASE_PATH+fastq1\n",
    "        if not os.path.isfile(f1path):\n",
    "            print(f'error no file: {f1path}')\n",
    "            #run_fastp(f1path, f2path, sra) \n",
    "        bwa_mem_out=run_bwa_single(bwa_path, sra, f1path, description=DESCRIPTION, options=OPTIONS)\n",
    "        gatk_out=gatk_sort(bwa_mem_out)\n",
    "        gatk_bam_file=gatk_metrics(gatk_out)\n",
    "        index_bam(gatk_bam_file)\n",
    "        remove_file(bwa_mem_out)\n",
    "        remove_file(gatk_out)\n",
    "        \n",
    "        out_path=bwa_path+'bamstats/'\n",
    "        if not os.path.isfile(out_path):\n",
    "            pathlib.Path(out_path).mkdir(exist_ok=True)\n",
    "        stats_out=out_path+sra+BAMSTATS_POST\n",
    "        run_bamstats(gatk_bam_file, stats_out)\n",
    "        if bed_file:\n",
    "            out_path=bwa_path+'bamdst/'\n",
    "            if not os.path.isfile(out_path):\n",
    "                pathlib.Path(out_path).mkdir(exist_ok=True)\n",
    "            run_bamdst(bed_file, out_path, gatk_bam_file)"
   ]
  },
  {
   "cell_type": "code",
   "execution_count": 33,
   "id": "a6ad6d8d",
   "metadata": {},
   "outputs": [],
   "source": [
    "PRJ='PRJNA795267'\n",
    "PRJ_OUT_PATH=f'/mnt/1TB_0/Data/Assembly/{PRJ}/'\n",
    "BASE_PATH=f'/mnt/6TB_0/Data/genbank/{PRJ}/'\n",
    "\n",
    "REF_NAME='PRJNA795267_fast_SARS.fa'\n",
    "REF_PATH='/mnt/1TB_0/Data/fasta/combined/indexed/'\n",
    "\n",
    "#REF_NAME='GCF_000001405.39_GRCh38.p13_genomic.fna'\n",
    "#REF_PATH='/mnt/1TB_0/Data/fasta/combined/indexed/'\n",
    "#REF_PATH='/mnt/1TB_0/Data/fasta/mammal_genomes/GRCH38/ncbi-genomes-2021-06-12/'\n",
    "NUM_THREADS=32\n",
    "#DESCRIPTION='_soft_clip'\n",
    "#OPTIONS=\"-Y\"\n",
    "#DESCRIPTION='_default'\n",
    "#http://bio-bwa.sourceforge.net/bwa.shtml#3\n",
    "#OPTIONS=\"-Y -B 1 -a -k 13\"\n",
    "OPTIONS=\"\"\n",
    "RUN_FASTP=False\n",
    "ALIGN_NAME=REF_NAME.split('.fa')[0]\n",
    "BAMSTATS_POST=f'_{ALIGN_NAME}_bamstats.txt'"
   ]
  },
  {
   "cell_type": "code",
   "execution_count": 34,
   "id": "68887618",
   "metadata": {},
   "outputs": [],
   "source": [
    "#done: 'SRR10168374'\n",
    "#SRAs=['SRR10168373', 'SRR10168375', 'SRR10168376','SRR10168377', 'SRR10168378',\\\n",
    "#      'SRR10168379','SRR10168380','SRR10168381','SRR10168382','SRR10168383','SRR10168384', \\\n",
    "#      'SRR10168386','SRR10168387','SRR10168388','SRR10168389','SRR10168390',\\\n",
    "#     'SRR10168385','SRR10168391','SRR10168392','SRR10168393']\n",
    "\n",
    "SRAs=['SRR10168374','SRR10168375','SRR10168376','SRR10168377','SRR10168378']\n",
    "#SRAsingle=['journal_ppat_1009664_s002']"
   ]
  },
  {
   "cell_type": "code",
   "execution_count": 35,
   "id": "15472514",
   "metadata": {},
   "outputs": [],
   "source": [
    "FASTQ_FILES=[]\n",
    "for f in SRAs:\n",
    "    FASTQ_FILES.append(f+'_1_fastp.fq')\n",
    "    FASTQ_FILES.append(f+'_2_fastp.fq')\n",
    "    \n",
    "#FASTQ_FILES=['MGISEQ_Merge_L04_1_fastp.fq','MGISEQ_Merge_L04_2_fastp.fq', 'SRR11092059_1_fastp.fq','SRR11092059_2_fastp.fq',\\\n",
    "#             'SRR11092060_1_fastp.fq','SRR11092060_2_fastp.fq','SRR11092061_1_fastp.fq','SRR11092061_2_fastp.fq',\\\n",
    "#             'SRR11092062L04_1_fastp.fq','SRR11092062L04_2_fastp.fq','SRR11092063L04_1_fastp.fq','SRR11092063L04_2_fastp.fq']    "
   ]
  },
  {
   "cell_type": "code",
   "execution_count": 36,
   "id": "025c5ccb",
   "metadata": {},
   "outputs": [],
   "source": [
    "#FASTQ_FILES_SINGLE=['journal_ppat_1009664_s002.fq']"
   ]
  },
  {
   "cell_type": "code",
   "execution_count": 37,
   "id": "1c2149d4",
   "metadata": {},
   "outputs": [],
   "source": [
    "#assert len(FASTQ_FILES)==2*len(SRAs)"
   ]
  },
  {
   "cell_type": "code",
   "execution_count": 58,
   "id": "e60a8bb3",
   "metadata": {},
   "outputs": [
    {
     "name": "stdout",
     "output_type": "stream",
     "text": [
      "SRR10168374\n",
      "SRR10168375\n",
      "SRR10168376\n",
      "SRR10168377\n",
      "SRR10168378\n"
     ]
    }
   ],
   "source": [
    "bed_file=REF_PATH+'bed/'+REF_NAME.split('.fa')[0]+'.bed'\n",
    "workflow(bed_file)"
   ]
  },
  {
   "cell_type": "markdown",
   "id": "e9509a5f",
   "metadata": {},
   "source": [
    "### Human"
   ]
  },
  {
   "cell_type": "code",
   "execution_count": 35,
   "id": "premier-placement",
   "metadata": {},
   "outputs": [
    {
     "name": "stdout",
     "output_type": "stream",
     "text": [
      "SRR10168374\n"
     ]
    }
   ],
   "source": [
    "REF_NAME='GCF_000001405.39_GRCh38.p13_genomic.fna'\n",
    "REF_PATH='/mnt/1TB_0/Data/fasta/mammal_genomes/GRCH38/ncbi-genomes-2021-06-12/'\n",
    "ALIGN_NAME=REF_NAME.split('.fa')[0]\n",
    "BAMSTATS_POST=f'_{ALIGN_NAME}_bamstats.txt'\n",
    "NUM_THREADS=32\n",
    "SRAs=['SRR10168374']\n",
    "#bed_file=REF_PATH+'bed/'+REF_NAME.split('.fa')[0]+'.bed'\n",
    "#create_bed(REF_PATH+REF_NAME, bed_file)\n",
    "#create_index()\n",
    "workflow()"
   ]
  },
  {
   "cell_type": "markdown",
   "id": "90860276",
   "metadata": {},
   "source": [
    "### Mouse"
   ]
  },
  {
   "cell_type": "code",
   "execution_count": 29,
   "id": "saved-bracket",
   "metadata": {},
   "outputs": [],
   "source": [
    "REF_NAME='GCF_000001635.27_GRCm39_genomic.fna'\n",
    "REF_PATH='/mnt/1TB_0/Data/fasta/mammal_genomes/GRCm39/'\n",
    "ALIGN_NAME=REF_NAME.split('.fa')[0]\n",
    "BAMSTATS_POST=f'_{ALIGN_NAME}_bamstats.txt'"
   ]
  },
  {
   "cell_type": "code",
   "execution_count": 30,
   "id": "59a2b2f6",
   "metadata": {},
   "outputs": [
    {
     "name": "stdout",
     "output_type": "stream",
     "text": [
      "SRR10168373\n",
      "SRR10168375\n",
      "SRR10168376\n",
      "SRR10168377\n",
      "SRR10168378\n",
      "SRR10168379\n",
      "SRR10168380\n",
      "SRR10168381\n",
      "SRR10168382\n",
      "SRR10168383\n",
      "SRR10168384\n",
      "SRR10168386\n",
      "SRR10168387\n",
      "SRR10168388\n",
      "SRR10168389\n",
      "SRR10168390\n",
      "SRR10168385\n",
      "SRR10168391\n",
      "SRR10168392\n",
      "SRR10168393\n"
     ]
    }
   ],
   "source": [
    "#create_index()\n",
    "workflow()"
   ]
  },
  {
   "cell_type": "markdown",
   "id": "e562251d",
   "metadata": {},
   "source": [
    "### ManJav"
   ]
  },
  {
   "cell_type": "code",
   "execution_count": 31,
   "id": "d98bb18c",
   "metadata": {},
   "outputs": [],
   "source": [
    "REF_NAME='GCF_014570535.1_YNU_ManJav_2.0_genomic.fna'\n",
    "REF_PATH='/mnt/1TB_0/Data/fasta/mammal_genomes/YNU_ManJav_2.0/ncbi-genomes-2021-10-24/'\n",
    "ALIGN_NAME=REF_NAME.split('.fa')[0]\n",
    "BAMSTATS_POST=f'_{ALIGN_NAME}_bamstats.txt'"
   ]
  },
  {
   "cell_type": "code",
   "execution_count": 32,
   "id": "8110b31a",
   "metadata": {},
   "outputs": [
    {
     "name": "stdout",
     "output_type": "stream",
     "text": [
      "SRR10168373\n",
      "SRR10168375\n",
      "SRR10168376\n",
      "SRR10168377\n",
      "SRR10168378\n",
      "SRR10168379\n",
      "SRR10168380\n",
      "SRR10168381\n",
      "SRR10168382\n",
      "SRR10168383\n",
      "SRR10168384\n",
      "SRR10168386\n",
      "SRR10168387\n",
      "SRR10168388\n",
      "SRR10168389\n",
      "SRR10168390\n",
      "SRR10168385\n",
      "SRR10168391\n",
      "SRR10168392\n",
      "SRR10168393\n"
     ]
    }
   ],
   "source": [
    "#create_index()\n",
    "workflow()"
   ]
  },
  {
   "cell_type": "code",
   "execution_count": 33,
   "id": "70612828",
   "metadata": {},
   "outputs": [
    {
     "name": "stdout",
     "output_type": "stream",
     "text": [
      "SRR10168374\n"
     ]
    }
   ],
   "source": [
    "SRAs=['SRR10168374']\n",
    "workflow()"
   ]
  },
  {
   "cell_type": "code",
   "execution_count": 34,
   "id": "1ef077d6",
   "metadata": {},
   "outputs": [
    {
     "name": "stdout",
     "output_type": "stream",
     "text": [
      "SRR10168374\n"
     ]
    }
   ],
   "source": [
    "#temp\n",
    "REF_NAME='GCF_000001635.27_GRCm39_genomic.fna'\n",
    "REF_PATH='/mnt/1TB_0/Data/fasta/mammal_genomes/GRCm39/'\n",
    "ALIGN_NAME=REF_NAME.split('.fa')[0]\n",
    "BAMSTATS_POST=f'_{ALIGN_NAME}_bamstats.txt'\n",
    "SRAs=['SRR10168374']\n",
    "workflow()"
   ]
  },
  {
   "cell_type": "code",
   "execution_count": null,
   "id": "472c10ae",
   "metadata": {},
   "outputs": [],
   "source": []
  }
 ],
 "metadata": {
  "kernelspec": {
   "display_name": "Python 3",
   "language": "python",
   "name": "python3"
  },
  "language_info": {
   "codemirror_mode": {
    "name": "ipython",
    "version": 3
   },
   "file_extension": ".py",
   "mimetype": "text/x-python",
   "name": "python",
   "nbconvert_exporter": "python",
   "pygments_lexer": "ipython3",
   "version": "3.6.13"
  }
 },
 "nbformat": 4,
 "nbformat_minor": 5
}
