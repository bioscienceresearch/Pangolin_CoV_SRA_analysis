{
 "cells": [
  {
   "cell_type": "code",
   "execution_count": 1,
   "id": "generic-tsunami",
   "metadata": {},
   "outputs": [],
   "source": [
    "import pathlib\n",
    "import subprocess\n",
    "import os\n",
    "import sys\n",
    "import time"
   ]
  },
  {
   "cell_type": "code",
   "execution_count": 2,
   "id": "casual-spring",
   "metadata": {},
   "outputs": [
    {
     "data": {
      "text/html": [
       "<style>.container { width:95% !important; }</style>"
      ],
      "text/plain": [
       "<IPython.core.display.HTML object>"
      ]
     },
     "metadata": {},
     "output_type": "display_data"
    }
   ],
   "source": [
    "from IPython.core.display import display, HTML\n",
    "display(HTML(\"<style>.container { width:95% !important; }</style>\"))"
   ]
  },
  {
   "cell_type": "code",
   "execution_count": 3,
   "id": "behind-aspect",
   "metadata": {},
   "outputs": [],
   "source": [
    "\n",
    "PRJ='PRJNA686836'\n",
    "PRJ_OUT_PATH=f'/mnt/1TB_0/Data/Assembly/{PRJ}/'\n",
    "\n",
    "de_novo='MEGAHIT'\n",
    "contig_mer='final'\n",
    "CONTIGS_NAME='MEGAHIT'\n",
    "contigs_base_folder='megahit_default'\n",
    "\n",
    "NUM_THREADS=8\n",
    "\n",
    "DIAMOND_SENSITIVITY='--sensitive'\n",
    "LOG_OPTION='--quiet'\n",
    "\n",
    "sys.path.insert(0, '/mnt/1TB_ssd/Data/diamond/')\n",
    "os.chdir(sys.path[0])"
   ]
  },
  {
   "cell_type": "code",
   "execution_count": 4,
   "id": "baking-penny",
   "metadata": {},
   "outputs": [],
   "source": [
    "#PRJ='PRJNA573298'\n",
    "#SRAs=['SRR10168373','SRR10168374','SRR10168375', 'SRR10168376','SRR10168377', 'SRR10168378'\\\n",
    "#        'SRR10168379','SRR10168380','SRR10168381','SRR10168382','SRR10168383',\\\n",
    "#      'SRR10168384','SRR10168385', 'SRR10168386','SRR10168387','SRR10168388',\\\n",
    "#      'SRR10168389','SRR10168390','SRR10168391','SRR10168392','SRR10168393']\n",
    "\n",
    "SRAs=['SRR13285085']"
   ]
  },
  {
   "cell_type": "code",
   "execution_count": 5,
   "id": "identified-thirty",
   "metadata": {},
   "outputs": [],
   "source": [
    "### Index"
   ]
  },
  {
   "cell_type": "code",
   "execution_count": 6,
   "id": "artificial-syndication",
   "metadata": {},
   "outputs": [],
   "source": [
    "def create_fq(contigsfa, contigs):\n",
    "    try:\n",
    "        cmd= f\"~/apps/bbmap/reformat.sh in={contigsfa} out={contigs}\"\n",
    "        subprocess.check_call(cmd, shell=True)\n",
    "    except subprocess.CalledProcessError as e:\n",
    "        raise RuntimeError(\"command '{}' return with error (code {}): {}\".format(e.cmd, e.returncode, e.output))"
   ]
  },
  {
   "cell_type": "code",
   "execution_count": 7,
   "id": "portable-continent",
   "metadata": {},
   "outputs": [],
   "source": [
    "def run_diamond(contigs_fq, diamond_path, sra, sensitivity):\n",
    "    assert os.path.isfile(contigs_fq)\n",
    "    sens_txt=sensitivity\n",
    "    if '--' in sensitivity: \n",
    "        sens_txt=sensitivity.split('--')[1]\n",
    "    if de_novo=='MEGAHIT':\n",
    "        daa_file= f\"{diamond_path}{sra}_{CONTIGS_NAME}_{contig_mer}_{sens_txt}.daa\"\n",
    "    elif de_novo=='coronaspades':\n",
    "        daa_file= f\"{diamond_path}{sra}_coronaspades_{coronaspades_code}_{sens_txt}.daa\"\n",
    "    try:\n",
    "        cmd = f\"diamond blastx -d nr -q {contigs_fq} -o {daa_file} {sensitivity} -f 100 --threads {NUM_THREADS} {LOG_OPTION}\"\n",
    "        subprocess.check_call(cmd, shell=True)\n",
    "    except subprocess.CalledProcessError as e:\n",
    "        raise RuntimeError(\"command '{}' return with error (code {}): {}\".format(e.cmd, e.returncode, e.output))"
   ]
  },
  {
   "cell_type": "code",
   "execution_count": 8,
   "id": "moral-victor",
   "metadata": {},
   "outputs": [],
   "source": [
    "def workflow():\n",
    "    start_time=time.time()\n",
    "    idx=0\n",
    "    for sra in SRAs:\n",
    "        print(sra)\n",
    "        start_loop=time.time()\n",
    "        if de_novo=='MEGAHIT':\n",
    "            #data_path=PRJ_OUT_PATH+sra+f'/{contigs_base_folder}/intermediate_contigs/'\n",
    "            data_path=PRJ_OUT_PATH+sra+f'/metaxa2/{contigs_base_folder}/'\n",
    "            contigs=data_path+f'{contig_mer}.contigs.fq'\n",
    "            contigsfa=data_path+f'{contig_mer}.contigs.fa'\n",
    "        elif de_novo=='coronaspades':\n",
    "            data_path=PRJ_OUT_PATH+sra+'/metaxa2/coronaspades_default/'\n",
    "            contigs=data_path+f'{coronaspades_name}.fq'\n",
    "            contigsfa=data_path+f'{coronaspades_name}.fasta'\n",
    "        if not os.path.isfile(contigsfa):\n",
    "            print(f'Contigs file: {contigsfa} doesnt exist')\n",
    "            raise Exception\n",
    "        if not os.path.isfile(contigs):\n",
    "            create_fq(contigsfa, contigs) \n",
    "        diamond_path=PRJ_OUT_PATH+sra+'/metaxa2/diamond/'\n",
    "        if not os.path.isfile(diamond_path):\n",
    "            pathlib.Path(diamond_path).mkdir(exist_ok=True)\n",
    "        run_diamond(contigs, diamond_path, sra, DIAMOND_SENSITIVITY)\n",
    "        print(f'Loop time {idx} {sra}: {time.time() - start_loop}')\n",
    "        idx+=1\n",
    "    print(f'Total time: {time.time() - start_time}')"
   ]
  },
  {
   "cell_type": "code",
   "execution_count": 9,
   "id": "premier-placement",
   "metadata": {},
   "outputs": [
    {
     "name": "stdout",
     "output_type": "stream",
     "text": [
      "SRR13285085\n"
     ]
    },
    {
     "ename": "RuntimeError",
     "evalue": "command 'diamond blastx -d nr -q /mnt/1TB_0/Data/Assembly/PRJNA686836/SRR13285085/metaxa2/megahit_default/final.contigs.fq -o /mnt/1TB_0/Data/Assembly/PRJNA686836/SRR13285085/metaxa2/diamond/SRR13285085_MEGAHIT_final_sensitive.daa --sensitive -f 100 --threads 8 --quiet' return with error (code 127): None",
     "output_type": "error",
     "traceback": [
      "\u001b[0;31m---------------------------------------------------------------------------\u001b[0m",
      "\u001b[0;31mCalledProcessError\u001b[0m                        Traceback (most recent call last)",
      "\u001b[0;32m<ipython-input-7-646f43de6f2c>\u001b[0m in \u001b[0;36mrun_diamond\u001b[0;34m(contigs_fq, diamond_path, sra, sensitivity)\u001b[0m\n\u001b[1;32m     11\u001b[0m         \u001b[0mcmd\u001b[0m \u001b[0;34m=\u001b[0m \u001b[0;34mf\"diamond blastx -d nr -q {contigs_fq} -o {daa_file} {sensitivity} -f 100 --threads {NUM_THREADS} {LOG_OPTION}\"\u001b[0m\u001b[0;34m\u001b[0m\u001b[0;34m\u001b[0m\u001b[0m\n\u001b[0;32m---> 12\u001b[0;31m         \u001b[0msubprocess\u001b[0m\u001b[0;34m.\u001b[0m\u001b[0mcheck_call\u001b[0m\u001b[0;34m(\u001b[0m\u001b[0mcmd\u001b[0m\u001b[0;34m,\u001b[0m \u001b[0mshell\u001b[0m\u001b[0;34m=\u001b[0m\u001b[0;32mTrue\u001b[0m\u001b[0;34m)\u001b[0m\u001b[0;34m\u001b[0m\u001b[0;34m\u001b[0m\u001b[0m\n\u001b[0m\u001b[1;32m     13\u001b[0m     \u001b[0;32mexcept\u001b[0m \u001b[0msubprocess\u001b[0m\u001b[0;34m.\u001b[0m\u001b[0mCalledProcessError\u001b[0m \u001b[0;32mas\u001b[0m \u001b[0me\u001b[0m\u001b[0;34m:\u001b[0m\u001b[0;34m\u001b[0m\u001b[0;34m\u001b[0m\u001b[0m\n",
      "\u001b[0;32m~/miniconda3/envs/rnaseq/lib/python3.6/subprocess.py\u001b[0m in \u001b[0;36mcheck_call\u001b[0;34m(*popenargs, **kwargs)\u001b[0m\n\u001b[1;32m    310\u001b[0m             \u001b[0mcmd\u001b[0m \u001b[0;34m=\u001b[0m \u001b[0mpopenargs\u001b[0m\u001b[0;34m[\u001b[0m\u001b[0;36m0\u001b[0m\u001b[0;34m]\u001b[0m\u001b[0;34m\u001b[0m\u001b[0;34m\u001b[0m\u001b[0m\n\u001b[0;32m--> 311\u001b[0;31m         \u001b[0;32mraise\u001b[0m \u001b[0mCalledProcessError\u001b[0m\u001b[0;34m(\u001b[0m\u001b[0mretcode\u001b[0m\u001b[0;34m,\u001b[0m \u001b[0mcmd\u001b[0m\u001b[0;34m)\u001b[0m\u001b[0;34m\u001b[0m\u001b[0;34m\u001b[0m\u001b[0m\n\u001b[0m\u001b[1;32m    312\u001b[0m     \u001b[0;32mreturn\u001b[0m \u001b[0;36m0\u001b[0m\u001b[0;34m\u001b[0m\u001b[0;34m\u001b[0m\u001b[0m\n",
      "\u001b[0;31mCalledProcessError\u001b[0m: Command 'diamond blastx -d nr -q /mnt/1TB_0/Data/Assembly/PRJNA686836/SRR13285085/metaxa2/megahit_default/final.contigs.fq -o /mnt/1TB_0/Data/Assembly/PRJNA686836/SRR13285085/metaxa2/diamond/SRR13285085_MEGAHIT_final_sensitive.daa --sensitive -f 100 --threads 8 --quiet' returned non-zero exit status 127.",
      "\nDuring handling of the above exception, another exception occurred:\n",
      "\u001b[0;31mRuntimeError\u001b[0m                              Traceback (most recent call last)",
      "\u001b[0;32m<ipython-input-9-83c9b7fca2af>\u001b[0m in \u001b[0;36m<module>\u001b[0;34m\u001b[0m\n\u001b[0;32m----> 1\u001b[0;31m \u001b[0mworkflow\u001b[0m\u001b[0;34m(\u001b[0m\u001b[0;34m)\u001b[0m\u001b[0;34m\u001b[0m\u001b[0;34m\u001b[0m\u001b[0m\n\u001b[0m",
      "\u001b[0;32m<ipython-input-8-e7689701f9b7>\u001b[0m in \u001b[0;36mworkflow\u001b[0;34m()\u001b[0m\n\u001b[1;32m     22\u001b[0m         \u001b[0;32mif\u001b[0m \u001b[0;32mnot\u001b[0m \u001b[0mos\u001b[0m\u001b[0;34m.\u001b[0m\u001b[0mpath\u001b[0m\u001b[0;34m.\u001b[0m\u001b[0misfile\u001b[0m\u001b[0;34m(\u001b[0m\u001b[0mdiamond_path\u001b[0m\u001b[0;34m)\u001b[0m\u001b[0;34m:\u001b[0m\u001b[0;34m\u001b[0m\u001b[0;34m\u001b[0m\u001b[0m\n\u001b[1;32m     23\u001b[0m             \u001b[0mpathlib\u001b[0m\u001b[0;34m.\u001b[0m\u001b[0mPath\u001b[0m\u001b[0;34m(\u001b[0m\u001b[0mdiamond_path\u001b[0m\u001b[0;34m)\u001b[0m\u001b[0;34m.\u001b[0m\u001b[0mmkdir\u001b[0m\u001b[0;34m(\u001b[0m\u001b[0mexist_ok\u001b[0m\u001b[0;34m=\u001b[0m\u001b[0;32mTrue\u001b[0m\u001b[0;34m)\u001b[0m\u001b[0;34m\u001b[0m\u001b[0;34m\u001b[0m\u001b[0m\n\u001b[0;32m---> 24\u001b[0;31m         \u001b[0mrun_diamond\u001b[0m\u001b[0;34m(\u001b[0m\u001b[0mcontigs\u001b[0m\u001b[0;34m,\u001b[0m \u001b[0mdiamond_path\u001b[0m\u001b[0;34m,\u001b[0m \u001b[0msra\u001b[0m\u001b[0;34m,\u001b[0m \u001b[0mDIAMOND_SENSITIVITY\u001b[0m\u001b[0;34m)\u001b[0m\u001b[0;34m\u001b[0m\u001b[0;34m\u001b[0m\u001b[0m\n\u001b[0m\u001b[1;32m     25\u001b[0m         \u001b[0mprint\u001b[0m\u001b[0;34m(\u001b[0m\u001b[0;34mf'Loop time {idx} {sra}: {time.time() - start_loop}'\u001b[0m\u001b[0;34m)\u001b[0m\u001b[0;34m\u001b[0m\u001b[0;34m\u001b[0m\u001b[0m\n\u001b[1;32m     26\u001b[0m         \u001b[0midx\u001b[0m\u001b[0;34m+=\u001b[0m\u001b[0;36m1\u001b[0m\u001b[0;34m\u001b[0m\u001b[0;34m\u001b[0m\u001b[0m\n",
      "\u001b[0;32m<ipython-input-7-646f43de6f2c>\u001b[0m in \u001b[0;36mrun_diamond\u001b[0;34m(contigs_fq, diamond_path, sra, sensitivity)\u001b[0m\n\u001b[1;32m     12\u001b[0m         \u001b[0msubprocess\u001b[0m\u001b[0;34m.\u001b[0m\u001b[0mcheck_call\u001b[0m\u001b[0;34m(\u001b[0m\u001b[0mcmd\u001b[0m\u001b[0;34m,\u001b[0m \u001b[0mshell\u001b[0m\u001b[0;34m=\u001b[0m\u001b[0;32mTrue\u001b[0m\u001b[0;34m)\u001b[0m\u001b[0;34m\u001b[0m\u001b[0;34m\u001b[0m\u001b[0m\n\u001b[1;32m     13\u001b[0m     \u001b[0;32mexcept\u001b[0m \u001b[0msubprocess\u001b[0m\u001b[0;34m.\u001b[0m\u001b[0mCalledProcessError\u001b[0m \u001b[0;32mas\u001b[0m \u001b[0me\u001b[0m\u001b[0;34m:\u001b[0m\u001b[0;34m\u001b[0m\u001b[0;34m\u001b[0m\u001b[0m\n\u001b[0;32m---> 14\u001b[0;31m         \u001b[0;32mraise\u001b[0m \u001b[0mRuntimeError\u001b[0m\u001b[0;34m(\u001b[0m\u001b[0;34m\"command '{}' return with error (code {}): {}\"\u001b[0m\u001b[0;34m.\u001b[0m\u001b[0mformat\u001b[0m\u001b[0;34m(\u001b[0m\u001b[0me\u001b[0m\u001b[0;34m.\u001b[0m\u001b[0mcmd\u001b[0m\u001b[0;34m,\u001b[0m \u001b[0me\u001b[0m\u001b[0;34m.\u001b[0m\u001b[0mreturncode\u001b[0m\u001b[0;34m,\u001b[0m \u001b[0me\u001b[0m\u001b[0;34m.\u001b[0m\u001b[0moutput\u001b[0m\u001b[0;34m)\u001b[0m\u001b[0;34m)\u001b[0m\u001b[0;34m\u001b[0m\u001b[0;34m\u001b[0m\u001b[0m\n\u001b[0m",
      "\u001b[0;31mRuntimeError\u001b[0m: command 'diamond blastx -d nr -q /mnt/1TB_0/Data/Assembly/PRJNA686836/SRR13285085/metaxa2/megahit_default/final.contigs.fq -o /mnt/1TB_0/Data/Assembly/PRJNA686836/SRR13285085/metaxa2/diamond/SRR13285085_MEGAHIT_final_sensitive.daa --sensitive -f 100 --threads 8 --quiet' return with error (code 127): None"
     ]
    }
   ],
   "source": [
    "workflow()"
   ]
  },
  {
   "cell_type": "code",
   "execution_count": null,
   "id": "featured-adobe",
   "metadata": {},
   "outputs": [],
   "source": [
    "#/mnt/8TB_0/Data/assembly/PRJNA607174/SRR11119759/megahit_default/final.contigs.fa\n",
    "#/mnt/8TB_0/Data/Assembly/PRJNA607174/SRR11119759/megahit_default/final.contigs.fa"
   ]
  },
  {
   "cell_type": "code",
   "execution_count": null,
   "id": "saved-bracket",
   "metadata": {},
   "outputs": [],
   "source": []
  }
 ],
 "metadata": {
  "kernelspec": {
   "display_name": "Python 3",
   "language": "python",
   "name": "python3"
  },
  "language_info": {
   "codemirror_mode": {
    "name": "ipython",
    "version": 3
   },
   "file_extension": ".py",
   "mimetype": "text/x-python",
   "name": "python",
   "nbconvert_exporter": "python",
   "pygments_lexer": "ipython3",
   "version": "3.6.12"
  }
 },
 "nbformat": 4,
 "nbformat_minor": 5
}
