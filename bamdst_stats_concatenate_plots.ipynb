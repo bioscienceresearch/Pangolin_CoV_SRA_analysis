{
 "cells": [
  {
   "cell_type": "code",
   "execution_count": 1,
   "id": "lesbian-moral",
   "metadata": {},
   "outputs": [],
   "source": [
    "import pathlib\n",
    "import subprocess\n",
    "import glob\n",
    "import os.path\n",
    "import pandas as pd\n",
    "import matplotlib\n",
    "from matplotlib import pyplot as plt"
   ]
  },
  {
   "cell_type": "code",
   "execution_count": 2,
   "id": "scenic-preparation",
   "metadata": {},
   "outputs": [],
   "source": [
    "PRJ='PRJNA573298'\n",
    "PRJ_OUT_PATH=f'/mnt/1TB_0/Data/Assembly/{PRJ}/'\n",
    "BASE_PATH=f'/mnt/6TB_0/Data/genbank/{PRJ}/'\n",
    "\n",
    "REF_NAME='mitochondria_mamals_1.fa'\n",
    "REF_PATH='/mnt/1TB_0/Data/fasta/combined/indexed/'\n",
    "\n",
    "BOWTIE_REF=REF_PATH+REF_NAME.split('.fa')[0]+'_bowtie2'\n",
    "\n",
    "NUM_THREADS=8\n",
    "LAYOUT='PAIRED'\n",
    "KEEP_UNALIGNED=False\n",
    "CREATE_FASTP=False\n",
    "\n",
    "ALIGN_OPTS_NAME='local_G_298_0'\n",
    "ALIGN_OPTS='--local --score-min G,298,0' \n",
    "\n",
    "ALIGN_NAME=REF_NAME.split('.fa')[0]\n",
    "BAMSTATS_POST=f'_{ALIGN_NAME}_{ALIGN_OPTS_NAME}_bamstats.txt'\n",
    "BAM_POST=f'_reads_fastp_{REF_NAME.split(\".fa\")[0]}_{ALIGN_OPTS_NAME}_bowtie2_gatk_sorted_marked.bam'"
   ]
  },
  {
   "cell_type": "code",
   "execution_count": 3,
   "id": "oriental-stocks",
   "metadata": {},
   "outputs": [],
   "source": [
    "\n",
    "SRAs=['SRR10168373', 'SRR10168374','SRR10168375', 'SRR10168376','SRR10168377', 'SRR10168378',\\\n",
    "      'SRR10168379','SRR10168380','SRR10168381','SRR10168382','SRR10168383',\\\n",
    "      'SRR10168384','SRR10168385', 'SRR10168386','SRR10168387','SRR10168388',\\\n",
    "      'SRR10168389','SRR10168390','SRR10168391','SRR10168392','SRR10168393']\n"
   ]
  },
  {
   "cell_type": "code",
   "execution_count": 4,
   "id": "processed-dealer",
   "metadata": {},
   "outputs": [],
   "source": [
    "def create_bed(fasta_file, bed_file):\n",
    "    cmd=f'faidx --transform bed {fasta_file} > {bed_file}'\n",
    "    subprocess.check_call(cmd, shell=True)"
   ]
  },
  {
   "cell_type": "code",
   "execution_count": 5,
   "id": "steady-organizer",
   "metadata": {},
   "outputs": [],
   "source": [
    "def run_bamdst(bed_file, out_path, bam_in):\n",
    "    cmd=f'/mnt/1TB_0/Data/Code/external/bamdst/bamdst -p {bed_file} -o {out_path} {bam_in}'\n",
    "    subprocess.check_call(cmd, shell=True)"
   ]
  },
  {
   "cell_type": "code",
   "execution_count": 6,
   "id": "consecutive-camel",
   "metadata": {},
   "outputs": [],
   "source": [
    "def run_bamstats(bam_file, stats_out):\n",
    "    \n",
    "    cmd=f'java -jar ~/apps/BAMStats-1.25/BAMStats-1.25.jar -i {bam_file} -m -q -o {stats_out}'\n",
    "    subprocess.check_call(cmd, shell=True)"
   ]
  },
  {
   "cell_type": "code",
   "execution_count": 7,
   "id": "english-washer",
   "metadata": {},
   "outputs": [],
   "source": [
    "def workflow_bamdst():\n",
    "    bed_file='/mnt/1TB_0/Data/fasta/combined/bed/'+REF_NAME.split('.fa')[0]+'.bed'\n",
    "    ref=REF_NAME.split('.fa')[0]\n",
    "    for idx, sra in enumerate(SRAs):\n",
    "        bwa_path=PRJ_OUT_PATH+sra+'/bowtie2/'\n",
    "        #SRR10168373_reads_mitochondria_mamals_1_local_G_298_0_bowtie2_gatk_sorted_marked.bam\n",
    "        bam_file= f\"{bwa_path}{sra}_reads_{ref}_{ALIGN_OPTS_NAME}_bowtie2_gatk_sorted_marked.bam\"\n",
    "        out_path=bwa_path+f'bamdst_reads_{ref}_{ALIGN_OPTS_NAME}/'\n",
    "        print(out_path)\n",
    "        if not os.path.isfile(out_path):\n",
    "            pathlib.Path(out_path).mkdir(exist_ok=True)\n",
    "        run_bamdst(bed_file, out_path, bam_file)"
   ]
  },
  {
   "cell_type": "code",
   "execution_count": 8,
   "id": "analyzed-terminology",
   "metadata": {},
   "outputs": [],
   "source": [
    "#workflow_bamdst()"
   ]
  },
  {
   "cell_type": "code",
   "execution_count": 9,
   "id": "based-smile",
   "metadata": {},
   "outputs": [],
   "source": [
    "def read_bamdsts():\n",
    "    bed_file='/mnt/1TB_0/Data/fasta/combined/bed/'+REF_NAME.split('.fa')[0]+'.bed'\n",
    "    ref=REF_NAME.split('.fa')[0]\n",
    "    frames=[]\n",
    "    for idx, sra in enumerate(SRAs):\n",
    "        bwa_path=PRJ_OUT_PATH+sra+'/bowtie2/'\n",
    "        #SRR10168373_reads_mitochondria_mamals_1_local_G_298_0_bowtie2_gatk_sorted_marked.bam\n",
    "        bam_file= f\"{bwa_path}{sra}_reads_{ref}_{ALIGN_OPTS_NAME}_bowtie2_gatk_sorted_marked.bam\"\n",
    "        out_path=bwa_path+f'bamdst_reads_{ref}_{ALIGN_OPTS_NAME}/'\n",
    "        stats_df=pd.read_csv(out_path+\"chromosomes.report\", sep='\\t')\n",
    "        stats_df['SRA']= [sra]*len(stats_df)\n",
    "        frames.append(stats_df)\n",
    "    return frames"
   ]
  },
  {
   "cell_type": "code",
   "execution_count": 10,
   "id": "cbd797bb",
   "metadata": {},
   "outputs": [],
   "source": [
    "frames=read_bamdsts()"
   ]
  },
  {
   "cell_type": "code",
   "execution_count": 11,
   "id": "3fb3ee2f",
   "metadata": {},
   "outputs": [
    {
     "data": {
      "text/plain": [
       "21"
      ]
     },
     "execution_count": 11,
     "metadata": {},
     "output_type": "execute_result"
    }
   ],
   "source": [
    "len(frames)"
   ]
  },
  {
   "cell_type": "code",
   "execution_count": 12,
   "id": "dd3d8072",
   "metadata": {},
   "outputs": [
    {
     "data": {
      "text/html": [
       "<div>\n",
       "<style scoped>\n",
       "    .dataframe tbody tr th:only-of-type {\n",
       "        vertical-align: middle;\n",
       "    }\n",
       "\n",
       "    .dataframe tbody tr th {\n",
       "        vertical-align: top;\n",
       "    }\n",
       "\n",
       "    .dataframe thead th {\n",
       "        text-align: right;\n",
       "    }\n",
       "</style>\n",
       "<table border=\"1\" class=\"dataframe\">\n",
       "  <thead>\n",
       "    <tr style=\"text-align: right;\">\n",
       "      <th></th>\n",
       "      <th>#Chromosome</th>\n",
       "      <th>DATA(%)</th>\n",
       "      <th>Avg depth</th>\n",
       "      <th>Median</th>\n",
       "      <th>Coverage%</th>\n",
       "      <th>Cov 4x %</th>\n",
       "      <th>Cov 10x %</th>\n",
       "      <th>Cov 30x %</th>\n",
       "      <th>Cov 100x %</th>\n",
       "      <th>SRA</th>\n",
       "    </tr>\n",
       "  </thead>\n",
       "  <tbody>\n",
       "    <tr>\n",
       "      <th>0</th>\n",
       "      <td>NC_005943.1</td>\n",
       "      <td>0.00</td>\n",
       "      <td>0.00</td>\n",
       "      <td>0.0</td>\n",
       "      <td>0.00</td>\n",
       "      <td>0.00</td>\n",
       "      <td>0.00</td>\n",
       "      <td>0.00</td>\n",
       "      <td>0.00</td>\n",
       "      <td>SRR10168374</td>\n",
       "    </tr>\n",
       "    <tr>\n",
       "      <th>1</th>\n",
       "      <td>MT335859.1</td>\n",
       "      <td>0.01</td>\n",
       "      <td>0.02</td>\n",
       "      <td>0.0</td>\n",
       "      <td>0.90</td>\n",
       "      <td>0.00</td>\n",
       "      <td>0.00</td>\n",
       "      <td>0.00</td>\n",
       "      <td>0.00</td>\n",
       "      <td>SRR10168374</td>\n",
       "    </tr>\n",
       "    <tr>\n",
       "      <th>2</th>\n",
       "      <td>NC_012920.1</td>\n",
       "      <td>1.43</td>\n",
       "      <td>2.01</td>\n",
       "      <td>0.0</td>\n",
       "      <td>38.95</td>\n",
       "      <td>14.85</td>\n",
       "      <td>5.00</td>\n",
       "      <td>1.08</td>\n",
       "      <td>0.00</td>\n",
       "      <td>SRR10168374</td>\n",
       "    </tr>\n",
       "    <tr>\n",
       "      <th>3</th>\n",
       "      <td>NC_053269.1</td>\n",
       "      <td>0.00</td>\n",
       "      <td>0.00</td>\n",
       "      <td>0.0</td>\n",
       "      <td>0.00</td>\n",
       "      <td>0.00</td>\n",
       "      <td>0.00</td>\n",
       "      <td>0.00</td>\n",
       "      <td>0.00</td>\n",
       "      <td>SRR10168374</td>\n",
       "    </tr>\n",
       "    <tr>\n",
       "      <th>4</th>\n",
       "      <td>MN816163.1</td>\n",
       "      <td>0.00</td>\n",
       "      <td>0.00</td>\n",
       "      <td>0.0</td>\n",
       "      <td>0.00</td>\n",
       "      <td>0.00</td>\n",
       "      <td>0.00</td>\n",
       "      <td>0.00</td>\n",
       "      <td>0.00</td>\n",
       "      <td>SRR10168374</td>\n",
       "    </tr>\n",
       "    <tr>\n",
       "      <th>5</th>\n",
       "      <td>MK251046.1</td>\n",
       "      <td>0.00</td>\n",
       "      <td>0.00</td>\n",
       "      <td>0.0</td>\n",
       "      <td>0.00</td>\n",
       "      <td>0.00</td>\n",
       "      <td>0.00</td>\n",
       "      <td>0.00</td>\n",
       "      <td>0.00</td>\n",
       "      <td>SRR10168374</td>\n",
       "    </tr>\n",
       "    <tr>\n",
       "      <th>6</th>\n",
       "      <td>KP257597.1</td>\n",
       "      <td>0.00</td>\n",
       "      <td>0.00</td>\n",
       "      <td>0.0</td>\n",
       "      <td>0.00</td>\n",
       "      <td>0.00</td>\n",
       "      <td>0.00</td>\n",
       "      <td>0.00</td>\n",
       "      <td>0.00</td>\n",
       "      <td>SRR10168374</td>\n",
       "    </tr>\n",
       "    <tr>\n",
       "      <th>7</th>\n",
       "      <td>MW549038.1</td>\n",
       "      <td>0.00</td>\n",
       "      <td>0.00</td>\n",
       "      <td>0.0</td>\n",
       "      <td>0.00</td>\n",
       "      <td>0.00</td>\n",
       "      <td>0.00</td>\n",
       "      <td>0.00</td>\n",
       "      <td>0.00</td>\n",
       "      <td>SRR10168374</td>\n",
       "    </tr>\n",
       "    <tr>\n",
       "      <th>8</th>\n",
       "      <td>KY018919.1</td>\n",
       "      <td>0.00</td>\n",
       "      <td>0.00</td>\n",
       "      <td>0.0</td>\n",
       "      <td>0.00</td>\n",
       "      <td>0.00</td>\n",
       "      <td>0.00</td>\n",
       "      <td>0.00</td>\n",
       "      <td>0.00</td>\n",
       "      <td>SRR10168374</td>\n",
       "    </tr>\n",
       "    <tr>\n",
       "      <th>9</th>\n",
       "      <td>MG196309.1</td>\n",
       "      <td>98.56</td>\n",
       "      <td>138.68</td>\n",
       "      <td>0.0</td>\n",
       "      <td>23.45</td>\n",
       "      <td>13.57</td>\n",
       "      <td>11.05</td>\n",
       "      <td>10.45</td>\n",
       "      <td>9.47</td>\n",
       "      <td>SRR10168374</td>\n",
       "    </tr>\n",
       "    <tr>\n",
       "      <th>10</th>\n",
       "      <td>KX355640.1</td>\n",
       "      <td>0.00</td>\n",
       "      <td>0.00</td>\n",
       "      <td>0.0</td>\n",
       "      <td>0.00</td>\n",
       "      <td>0.00</td>\n",
       "      <td>0.00</td>\n",
       "      <td>0.00</td>\n",
       "      <td>0.00</td>\n",
       "      <td>SRR10168374</td>\n",
       "    </tr>\n",
       "  </tbody>\n",
       "</table>\n",
       "</div>"
      ],
      "text/plain": [
       "    #Chromosome     DATA(%)   Avg depth      Median   Coverage%    Cov 4x %  \\\n",
       "0   NC_005943.1        0.00        0.00         0.0        0.00        0.00   \n",
       "1    MT335859.1        0.01        0.02         0.0        0.90        0.00   \n",
       "2   NC_012920.1        1.43        2.01         0.0       38.95       14.85   \n",
       "3   NC_053269.1        0.00        0.00         0.0        0.00        0.00   \n",
       "4    MN816163.1        0.00        0.00         0.0        0.00        0.00   \n",
       "5    MK251046.1        0.00        0.00         0.0        0.00        0.00   \n",
       "6    KP257597.1        0.00        0.00         0.0        0.00        0.00   \n",
       "7    MW549038.1        0.00        0.00         0.0        0.00        0.00   \n",
       "8    KY018919.1        0.00        0.00         0.0        0.00        0.00   \n",
       "9    MG196309.1       98.56      138.68         0.0       23.45       13.57   \n",
       "10   KX355640.1        0.00        0.00         0.0        0.00        0.00   \n",
       "\n",
       "     Cov 10x %   Cov 30x %  Cov 100x %          SRA  \n",
       "0         0.00        0.00        0.00  SRR10168374  \n",
       "1         0.00        0.00        0.00  SRR10168374  \n",
       "2         5.00        1.08        0.00  SRR10168374  \n",
       "3         0.00        0.00        0.00  SRR10168374  \n",
       "4         0.00        0.00        0.00  SRR10168374  \n",
       "5         0.00        0.00        0.00  SRR10168374  \n",
       "6         0.00        0.00        0.00  SRR10168374  \n",
       "7         0.00        0.00        0.00  SRR10168374  \n",
       "8         0.00        0.00        0.00  SRR10168374  \n",
       "9        11.05       10.45        9.47  SRR10168374  \n",
       "10        0.00        0.00        0.00  SRR10168374  "
      ]
     },
     "execution_count": 12,
     "metadata": {},
     "output_type": "execute_result"
    }
   ],
   "source": [
    "frames[1]"
   ]
  },
  {
   "cell_type": "code",
   "execution_count": 13,
   "id": "5f2618c7",
   "metadata": {},
   "outputs": [],
   "source": [
    "df = pd.concat(frames, ignore_index=True)"
   ]
  },
  {
   "cell_type": "code",
   "execution_count": 14,
   "id": "a67f13bd",
   "metadata": {},
   "outputs": [
    {
     "data": {
      "text/plain": [
       "231"
      ]
     },
     "execution_count": 14,
     "metadata": {},
     "output_type": "execute_result"
    }
   ],
   "source": [
    "len(df)"
   ]
  },
  {
   "cell_type": "code",
   "execution_count": 15,
   "id": "004a4815",
   "metadata": {},
   "outputs": [],
   "source": [
    "df['#Chromosome'] = df['#Chromosome'].str.strip()\n",
    "cols=df.columns"
   ]
  },
  {
   "cell_type": "code",
   "execution_count": 16,
   "id": "68177388",
   "metadata": {},
   "outputs": [],
   "source": [
    "str_cols=[]\n",
    "for col in enumerate(cols):\n",
    "    str_cols.append(col[1].strip())\n",
    "df.columns=str_cols"
   ]
  },
  {
   "cell_type": "code",
   "execution_count": 33,
   "id": "43ecb469",
   "metadata": {},
   "outputs": [],
   "source": [
    "def plot_df(df, out_path, l_ref, colours):\n",
    "    fig = plt.figure(figsize=(12,5)) \n",
    "\n",
    "    ax = fig.add_subplot(111) \n",
    "    ax2 = ax.twinx() # Create another axes that shares the same x-axis as ax.\n",
    "\n",
    "    width = 0.4\n",
    "\n",
    "    df.plot(x=\"SRA\", y=\"DATA(%)\", kind='bar', color=colours[0], ax=ax, width=width, position=1)\n",
    "    df.plot(x=\"SRA\", y=\"Coverage%\", kind='bar', color=colours[1], ax=ax2, width=width, position=0)\n",
    "\n",
    "    ax.set_ylabel('DATA(%)')\n",
    "    ax.legend(loc='upper left')\n",
    "    ax2.set_ylabel(\"Coverage%\")\n",
    "    ax2.legend(loc='upper right')\n",
    "    \n",
    "\n",
    "    plt.title(l_ref+' mitochondrion alignment')\n",
    "    plt.savefig(out_path, dpi=100, bbox_inches='tight')"
   ]
  },
  {
   "cell_type": "code",
   "execution_count": 34,
   "id": "ea8a1286",
   "metadata": {},
   "outputs": [],
   "source": [
    "def workflow(mitos, df):\n",
    "    \n",
    "    ref=REF_NAME.split('.fa')[0]\n",
    "    plot_path=PRJ_OUT_PATH+'general_plots/'\n",
    "    colours=[['teal', 'goldenrod'], ['royalblue', 'orangered'], ['seagreen', 'mediumorchid']]\n",
    "    for i, l_ref in enumerate(mitos):\n",
    "        df_single=df.loc[df['#Chromosome']==l_ref]\n",
    "        out_path=plot_path+f'bamdst_reads_{ref}_{ALIGN_OPTS_NAME}_{l_ref}.png'\n",
    "        plot_df(df_single, out_path, l_ref, colours[i])"
   ]
  },
  {
   "cell_type": "code",
   "execution_count": 36,
   "id": "fd30c190",
   "metadata": {},
   "outputs": [
    {
     "data": {
      "image/png": "[encoded data removed]",
      "text/plain": [
       "<Figure size 864x360 with 2 Axes>"
      ]
     },
     "metadata": {
      "needs_background": "light"
     },
     "output_type": "display_data"
    },
    {
     "data": {
      "image/png": "[encoded data removed]",
      "text/plain": [
       "<Figure size 864x360 with 2 Axes>"
      ]
     },
     "metadata": {
      "needs_background": "light"
     },
     "output_type": "display_data"
    },
    {
     "data": {
      "image/png": "[encoded data removed]",
      "text/plain": [
       "<Figure size 864x360 with 2 Axes>"
      ]
     },
     "metadata": {
      "needs_background": "light"
     },
     "output_type": "display_data"
    }
   ],
   "source": [
    "mitos=['NC_012920.1', 'KY018919.1', 'MG196309.1']\n",
    "df_basic=df.loc[df['#Chromosome'].isin(['NC_012920.1', 'KY018919.1', 'MG196309.1'])]\n",
    "workflow(mitos, df_basic)"
   ]
  },
  {
   "cell_type": "code",
   "execution_count": null,
   "id": "ff2c771d",
   "metadata": {},
   "outputs": [],
   "source": []
  },
  {
   "cell_type": "code",
   "execution_count": null,
   "id": "c44d5d52",
   "metadata": {},
   "outputs": [],
   "source": []
  }
 ],
 "metadata": {
  "kernelspec": {
   "display_name": "Python 3",
   "language": "python",
   "name": "python3"
  },
  "language_info": {
   "codemirror_mode": {
    "name": "ipython",
    "version": 3
   },
   "file_extension": ".py",
   "mimetype": "text/x-python",
   "name": "python",
   "nbconvert_exporter": "python",
   "pygments_lexer": "ipython3",
   "version": "3.6.13"
  }
 },
 "nbformat": 4,
 "nbformat_minor": 5
}
